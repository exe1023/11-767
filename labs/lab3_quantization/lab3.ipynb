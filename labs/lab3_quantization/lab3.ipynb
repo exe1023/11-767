{
 "cells": [
  {
   "cell_type": "code",
   "execution_count": 41,
   "id": "d9d97338-4bc1-4bb2-9d54-ef9003e547b1",
   "metadata": {},
   "outputs": [],
   "source": [
    "\n",
    "lang = 'en'\n",
    "fs = 16000 #@param {type:\"integer\"}\n",
    "#tag = 'Shinji Watanabe/spgispeech_asr_train_asr_conformer6_n_fft512_hop_length256_raw_en_unnorm_bpe5000_valid.acc.ave' #@param [\"Shinji Watanabe/spgispeech_asr_train_asr_conformer6_n_fft512_hop_length256_raw_en_unnorm_bpe5000_valid.acc.ave\", \"kamo-naoyuki/librispeech_asr_train_asr_conformer6_n_fft512_hop_length256_raw_en_bpe5000_scheduler_confwarmup_steps40000_optim_conflr0.0025_sp_valid.acc.ave\"] {type:\"string\"}\n",
    "tag = 'kamo-naoyuki/mini_an4_asr_train_raw_bpe_valid.acc.best'\n",
    "#tag = 'kamo-naoyuki/wsj'\n"
   ]
  },
  {
   "cell_type": "code",
   "execution_count": 42,
   "id": "2eb8a4e4-3770-4783-bc02-0fdec168e980",
   "metadata": {},
   "outputs": [
    {
     "name": "stderr",
     "output_type": "stream",
     "text": [
      "WARNING:root:As non-batch scorers ['decoder'] are found, fall back to non-batch implementation.\n"
     ]
    }
   ],
   "source": [
    "# Initialize models\n",
    "import time\n",
    "import torch\n",
    "import string\n",
    "from espnet_model_zoo.downloader import ModelDownloader\n",
    "from espnet2.bin.asr_inference import Speech2Text\n",
    "\n",
    "d = ModelDownloader()\n",
    "# It may takes a while to download and build models\n",
    "speech2text = Speech2Text(\n",
    "    **d.download_and_unpack(tag),\n",
    "    device=\"cpu\",\n",
    "    minlenratio=0.0,\n",
    "    maxlenratio=0.0,\n",
    "    ctc_weight=0,\n",
    "    beam_size=5,\n",
    "    penalty=0.0,\n",
    "    batch_size=1,\n",
    "    nbest=1\n",
    ")\n",
    "\n",
    "def text_normalizer(text):\n",
    "    text = text.upper()\n",
    "    return text.translate(str.maketrans('', '', string.punctuation))\n"
   ]
  },
  {
   "cell_type": "code",
   "execution_count": 43,
   "id": "ef638c64-ef7a-497f-af12-898c738b8a1e",
   "metadata": {},
   "outputs": [],
   "source": [
    "import torch\n",
    "import torch.quantization\n",
    "import torch.nn as nn\n",
    "# this is the call that does the work\n",
    "torch.backends.quantized.engine = 'fbgemm'\n",
    "model = speech2text.asr_model\n",
    "beam_search = speech2text.beam_search\n",
    "quantized_model = torch.quantization.quantize_dynamic(\n",
    "    model, {nn.Linear}, dtype=torch.qint8\n",
    ")\n",
    "\n",
    "quantized_beam = torch.quantization.quantize_dynamic(\n",
    "    beam_search, {nn.Linear}, dtype=torch.qint8\n",
    ")\n"
   ]
  },
  {
   "cell_type": "code",
   "execution_count": 44,
   "id": "b6c16149-876f-4795-b241-031db1b650b2",
   "metadata": {},
   "outputs": [],
   "source": [
    "quantized_lm = torch.quantization.quantize_dynamic(\n",
    "    beam_search.scorers['lm'], {nn.Linear}, dtype=torch.qint8\n",
    ")"
   ]
  },
  {
   "cell_type": "code",
   "execution_count": 45,
   "id": "2f1a3c8a-ee86-4510-9873-83bbd2295d83",
   "metadata": {},
   "outputs": [
    {
     "name": "stdout",
     "output_type": "stream",
     "text": [
      "model:  fp32  \t Size (KB): 33094.196\n",
      "model:  int8  \t Size (KB): 29966.968\n",
      "model:  fp32  \t Size (KB): 5841.467\n",
      "model:  int8  \t Size (KB): 5194.077\n",
      "model:  fp32  \t Size (KB): 35.687\n",
      "model:  int8  \t Size (KB): 10.463\n",
      "model:  fp32  \t Size (KB): 27225.156\n",
      "model:  int8  \t Size (KB): 27173.31\n",
      "1.00 times smaller\n"
     ]
    }
   ],
   "source": [
    "import os\n",
    "def print_size_of_model(model, label=\"\"):\n",
    "    torch.save(model.state_dict(), \"temp.p\")\n",
    "    size=os.path.getsize(\"temp.p\")\n",
    "    print(\"model: \",label,' \\t','Size (KB):', size/1e3)\n",
    "    os.remove('temp.p')\n",
    "    return size\n",
    "\n",
    "#model:  fp32  \t Size (KB): 464957.733\n",
    "#model:  int8  \t Size (KB): 161106.361\n",
    "#model:  fp32  \t Size (KB): 351265.649\n",
    "\n",
    "# compare the sizes\n",
    "f=print_size_of_model(model,\"fp32\")\n",
    "q=print_size_of_model(quantized_model,\"int8\")\n",
    "\n",
    "f=print_size_of_model(model.decoder,\"fp32\")\n",
    "q=print_size_of_model(quantized_model.decoder,\"int8\")\n",
    "\n",
    "f=print_size_of_model(model.ctc,\"fp32\")\n",
    "q=print_size_of_model(quantized_model.ctc,\"int8\")\n",
    "\n",
    "f=print_size_of_model(beam_search.scorers['lm'],\"fp32\")\n",
    "q=print_size_of_model(quantized_lm,\"int8\")\n",
    "\n",
    "print(\"{0:.2f} times smaller\".format(f/q))\n"
   ]
  },
  {
   "cell_type": "code",
   "execution_count": 29,
   "id": "223ea58f-5b62-47d5-9ea1-ddaa82d941ce",
   "metadata": {},
   "outputs": [
    {
     "name": "stderr",
     "output_type": "stream",
     "text": [
      "/usr0/home/yitingye/miniconda3/envs/on_device/lib/python3.6/site-packages/torch/quantization/observer.py:124: UserWarning: Please use quant_min and quant_max to specify the range for observers.                     reduce_range will be deprecated in a future release of PyTorch.\n",
      "  reduce_range will be deprecated in a future release of PyTorch.\"\n",
      "/usr0/home/yitingye/miniconda3/envs/on_device/lib/python3.6/site-packages/torch/quantization/observer.py:246: UserWarning: must run observer before calling calculate_qparams.                                        Returning default scale and zero point \n",
      "  Returning default scale and zero point \"\n"
     ]
    },
    {
     "name": "stdout",
     "output_type": "stream",
     "text": [
      "model:    \t Size (KB): 3625.937\n",
      "model:    \t Size (KB): 22134.609\n",
      "Found a 'bluetick'\n"
     ]
    }
   ],
   "source": [
    "import torchvision.models as models\n",
    "import torch\n",
    "from torchvision import transforms\n",
    "from PIL import Image\n",
    "\n",
    "def print_size_of_model(model, label=\"\"):\n",
    "    torch.save(model.state_dict(), \"temp.p\")\n",
    "    size=os.path.getsize(\"temp.p\")\n",
    "    print(\"model: \",label,' \\t','Size (KB):', size/1e3)\n",
    "    os.remove('temp.p')\n",
    "    return size\n",
    "\n",
    "labels = [line.strip() for line in open(\"imagenet_labels.txt\")]\n",
    "model = models.quantization.mobilenet_v2(pretrained=True, quantize=True)\n",
    "print_size_of_model(model)\n",
    "model = models.quantization.mobilenet_v3_large(pretrained=True, quantize=False)\n",
    "print_size_of_model(model)\n",
    "\n",
    "model.eval()\n",
    "\n",
    "transform = transforms.Compose([transforms.Resize(255),\n",
    "                                transforms.CenterCrop(224),\n",
    "                                transforms.ToTensor()])\n",
    "\n",
    "normalize = transforms.Normalize(mean=[0.485, 0.456, 0.406],\n",
    "                                 std=[0.229, 0.224, 0.225])\n",
    "\n",
    "image = Image.open(\"image.jpg\").convert('RGB')\n",
    "image = transform(image)\n",
    "image = normalize(image)\n",
    "image = image.unsqueeze(0)\n",
    "\n",
    "out = model(image)\n",
    "label = labels[torch.argmax(out[0]).item()]\n",
    "print(f\"Found a {label}\")"
   ]
  },
  {
   "cell_type": "code",
   "execution_count": 3,
   "id": "e957b64f-da58-42cd-aeab-b6987c717481",
   "metadata": {},
   "outputs": [
    {
     "name": "stdout",
     "output_type": "stream",
     "text": [
      "dict_keys(['ctc', 'lm'])\n",
      "2565000\n",
      "30350216\n",
      "116146960\n"
     ]
    }
   ],
   "source": [
    "import numpy as np\n",
    "\n",
    "# print scorers we have\n",
    "print(speech2text.beam_search.scorers.keys())\n",
    "\n",
    "model = speech2text.asr_model\n",
    "print(sum([np.prod(p.size()) for p in model.ctc.parameters()]))\n",
    "print(sum([np.prod(p.size()) for p in model.decoder.parameters()]))\n",
    "print(sum([np.prod(p.size()) for p in model.parameters()]))\n"
   ]
  },
  {
   "cell_type": "code",
   "execution_count": 54,
   "id": "030245c8-4ccf-4a26-a5ad-64e265cfc8c7",
   "metadata": {},
   "outputs": [
    {
     "name": "stdout",
     "output_type": "stream",
     "text": [
      "kamo-naoyuki/mini_an4_asr_train_raw_bpe_valid.acc.best\n",
      "0\n",
      "normal 7.8401049267500635\n",
      "quantized 9.330596513696946\n",
      "0.3\n",
      "normal 83.32818015804514\n",
      "quantized 130.293192021898\n",
      "1.0\n",
      "normal 30.273557479470036\n",
      "quantized 34.914994971011765\n"
     ]
    },
    {
     "data": {
      "image/png": "[encoded data removed]",
      "text/plain": [
       "<Figure size 432x288 with 1 Axes>"
      ]
     },
     "metadata": {
      "needs_background": "light"
     },
     "output_type": "display_data"
    }
   ],
   "source": [
    "import json\n",
    "import numpy as np\n",
    "import matplotlib.pyplot as plt\n",
    "\n",
    "with open('lab3-quantize-log.json') as f:\n",
    "    quantized_data = json.load(f)\n",
    "\n",
    "with open('latency.json') as f:\n",
    "    data = json.load(f)\n",
    "\n",
    "name_map = {\n",
    "    'kamo-naoyuki/mini_an4_asr_train_raw_bpe_valid.acc.best': 'LSTM',\n",
    "#    'Shinji Watanabe/librispeech_asr_train_asr_transformer_e18_raw_bpe_sp_valid.acc.best': 'Transformer'\n",
    "}\n",
    "\n",
    "from collections import defaultdict\n",
    "\n",
    "plt.xlabel('Number of Frames')\n",
    "plt.ylabel('Seconds')\n",
    "\n",
    "for model in name_map.keys():\n",
    "    print(model)\n",
    "    len_count = defaultdict(int)\n",
    "    \n",
    "    for ctc_weight in ['0', '0.3', '1.0']:\n",
    "        print(ctc_weight)\n",
    "        result = data[model][ctc_weight]\n",
    "\n",
    "        for time, input_len in result:\n",
    "            len_count[input_len] += 1\n",
    "        \n",
    "        latency = [x[0] for x in result]\n",
    "        input_len = [x[1] for x in result]\n",
    "        print('normal', np.mean(latency))\n",
    "        model_name = f'{name_map[model]} CTC Weight {ctc_weight}'\n",
    "        plt.plot(input_len, latency, 'o', label=model_name)\n",
    "        \n",
    "        q_result = quantized_data[model][ctc_weight]\n",
    "\n",
    "        q_latency = []\n",
    "        q_len = []\n",
    "        for time, input_len in q_result:\n",
    "            if len_count[input_len] > 0:\n",
    "                q_latency.append(time)\n",
    "                q_len.append(input_len)\n",
    "                len_count[input_len] -= 1\n",
    "        print('quantized', np.mean(q_latency))\n",
    "        model_name = f'{name_map[model]} CTC Weight {ctc_weight} Quantized'\n",
    "\n",
    "        plt.plot(q_len, q_latency, 'o', label=model_name)\n",
    "\n",
    "plt.title('Inference Latency')\n",
    "plt.legend()\n",
    "#plt.show()\n",
    "plt.savefig('figures/lstm_latency.png')"
   ]
  },
  {
   "cell_type": "code",
   "execution_count": 56,
   "id": "765a41e5-8430-4397-96db-5291bafd74d4",
   "metadata": {},
   "outputs": [
    {
     "name": "stdout",
     "output_type": "stream",
     "text": [
      "Quantized\n",
      "0\n",
      "100\n",
      "0.3\n",
      "100\n",
      "1.0\n",
      "100\n",
      "Quantized\n",
      "0\n",
      "100\n",
      "0.3\n",
      "100\n",
      "1.0\n",
      "100\n"
     ]
    },
    {
     "data": {
      "image/png": "[encoded data removed]",
      "text/plain": [
       "<Figure size 432x288 with 1 Axes>"
      ]
     },
     "metadata": {
      "needs_background": "light"
     },
     "output_type": "display_data"
    }
   ],
   "source": [
    "import json\n",
    "import matplotlib.pyplot as plt\n",
    "import numpy as np\n",
    "\n",
    "with open('lab3-quantize-log.json') as f:\n",
    "    quantized_data = json.load(f)\n",
    "\n",
    "with open('latency.json') as f:\n",
    "    data = json.load(f)\n",
    "\n",
    "name_map = {\n",
    "    'kamo-naoyuki/mini_an4_asr_train_raw_bpe_valid.acc.best': 'LSTM',\n",
    "    'Shinji Watanabe/librispeech_asr_train_asr_transformer_e18_raw_bpe_sp_valid.acc.best': 'Transformer'\n",
    "}\n",
    "max_len = 300000\n",
    "\n",
    "plt.xlabel('Number of Frames')\n",
    "plt.ylabel('Seconds')\n",
    "\n",
    "for model in name_map.keys():\n",
    "    print('Quantized')\n",
    "    model_result = quantized_data[model]\n",
    "    for ctc_weight, result in model_result.items():\n",
    "        print(ctc_weight)\n",
    "        \n",
    "        sorted_result = sorted(result, key=lambda x:x[1])\n",
    "        input_len = [x[1] for x in sorted_result if x[1] <= max_len]\n",
    "        latency = [x[0] for x in sorted_result if x[1] <= max_len]\n",
    "        print(len(result))\n",
    "        \n",
    "        model_name = f'{name_map[model]} CTC Weight {ctc_weight} Quantized'\n",
    "\n",
    "        plt.plot(input_len, latency, 'o', label=model_name)\n",
    "'''\n",
    "    print('Normal')\n",
    "    model_result = data[model]\n",
    "    for ctc_weight, result in model_result.items():\n",
    "        print(ctc_weight)\n",
    "        \n",
    "        sorted_result = sorted(result, key=lambda x:x[1])\n",
    "        input_len = [x[1] for x in sorted_result]\n",
    "        latency = [x[0] for x in sorted_result]\n",
    "        print(np.mean(latency))\n",
    "        \n",
    "        model_name = f'{name_map[model]} CTC Weight {ctc_weight}'\n",
    "\n",
    "        plt.plot(input_len, latency, 'o', label=model_name)\n",
    "'''\n",
    "plt.title('Inference Latency')\n",
    "plt.legend()\n",
    "#plt.show()\n",
    "plt.savefig('figures/latency.png')"
   ]
  },
  {
   "cell_type": "code",
   "execution_count": null,
   "id": "46e41dcb-97a3-43bd-8e8e-b1c30a71e829",
   "metadata": {},
   "outputs": [],
   "source": []
  }
 ],
 "metadata": {
  "kernelspec": {
   "display_name": "Python 3",
   "language": "python",
   "name": "python3"
  },
  "language_info": {
   "codemirror_mode": {
    "name": "ipython",
    "version": 3
   },
   "file_extension": ".py",
   "mimetype": "text/x-python",
   "name": "python",
   "nbconvert_exporter": "python",
   "pygments_lexer": "ipython3",
   "version": "3.6.13"
  }
 },
 "nbformat": 4,
 "nbformat_minor": 5
}
