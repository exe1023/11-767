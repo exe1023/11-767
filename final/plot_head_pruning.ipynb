{
 "cells": [
  {
   "cell_type": "code",
   "execution_count": 1,
   "id": "7a13f2a1",
   "metadata": {},
   "outputs": [
    {
     "data": {
      "text/html": [
       "\n",
       "    <div class=\"bk-root\">\n",
       "        <a href=\"https://bokeh.org\" target=\"_blank\" class=\"bk-logo bk-logo-small bk-logo-notebook\"></a>\n",
       "        <span id=\"1002\">Loading BokehJS ...</span>\n",
       "    </div>"
      ]
     },
     "metadata": {},
     "output_type": "display_data"
    },
    {
     "data": {
      "application/javascript": [
       "\n",
       "(function(root) {\n",
       "  function now() {\n",
       "    return new Date();\n",
       "  }\n",
       "\n",
       "  var force = true;\n",
       "\n",
       "  if (typeof root._bokeh_onload_callbacks === \"undefined\" || force === true) {\n",
       "    root._bokeh_onload_callbacks = [];\n",
       "    root._bokeh_is_loading = undefined;\n",
       "  }\n",
       "\n",
       "  var JS_MIME_TYPE = 'application/javascript';\n",
       "  var HTML_MIME_TYPE = 'text/html';\n",
       "  var EXEC_MIME_TYPE = 'application/vnd.bokehjs_exec.v0+json';\n",
       "  var CLASS_NAME = 'output_bokeh rendered_html';\n",
       "\n",
       "  /**\n",
       "   * Render data to the DOM node\n",
       "   */\n",
       "  function render(props, node) {\n",
       "    var script = document.createElement(\"script\");\n",
       "    node.appendChild(script);\n",
       "  }\n",
       "\n",
       "  /**\n",
       "   * Handle when an output is cleared or removed\n",
       "   */\n",
       "  function handleClearOutput(event, handle) {\n",
       "    var cell = handle.cell;\n",
       "\n",
       "    var id = cell.output_area._bokeh_element_id;\n",
       "    var server_id = cell.output_area._bokeh_server_id;\n",
       "    // Clean up Bokeh references\n",
       "    if (id != null && id in Bokeh.index) {\n",
       "      Bokeh.index[id].model.document.clear();\n",
       "      delete Bokeh.index[id];\n",
       "    }\n",
       "\n",
       "    if (server_id !== undefined) {\n",
       "      // Clean up Bokeh references\n",
       "      var cmd = \"from bokeh.io.state import curstate; print(curstate().uuid_to_server['\" + server_id + \"'].get_sessions()[0].document.roots[0]._id)\";\n",
       "      cell.notebook.kernel.execute(cmd, {\n",
       "        iopub: {\n",
       "          output: function(msg) {\n",
       "            var id = msg.content.text.trim();\n",
       "            if (id in Bokeh.index) {\n",
       "              Bokeh.index[id].model.document.clear();\n",
       "              delete Bokeh.index[id];\n",
       "            }\n",
       "          }\n",
       "        }\n",
       "      });\n",
       "      // Destroy server and session\n",
       "      var cmd = \"import bokeh.io.notebook as ion; ion.destroy_server('\" + server_id + \"')\";\n",
       "      cell.notebook.kernel.execute(cmd);\n",
       "    }\n",
       "  }\n",
       "\n",
       "  /**\n",
       "   * Handle when a new output is added\n",
       "   */\n",
       "  function handleAddOutput(event, handle) {\n",
       "    var output_area = handle.output_area;\n",
       "    var output = handle.output;\n",
       "\n",
       "    // limit handleAddOutput to display_data with EXEC_MIME_TYPE content only\n",
       "    if ((output.output_type != \"display_data\") || (!Object.prototype.hasOwnProperty.call(output.data, EXEC_MIME_TYPE))) {\n",
       "      return\n",
       "    }\n",
       "\n",
       "    var toinsert = output_area.element.find(\".\" + CLASS_NAME.split(' ')[0]);\n",
       "\n",
       "    if (output.metadata[EXEC_MIME_TYPE][\"id\"] !== undefined) {\n",
       "      toinsert[toinsert.length - 1].firstChild.textContent = output.data[JS_MIME_TYPE];\n",
       "      // store reference to embed id on output_area\n",
       "      output_area._bokeh_element_id = output.metadata[EXEC_MIME_TYPE][\"id\"];\n",
       "    }\n",
       "    if (output.metadata[EXEC_MIME_TYPE][\"server_id\"] !== undefined) {\n",
       "      var bk_div = document.createElement(\"div\");\n",
       "      bk_div.innerHTML = output.data[HTML_MIME_TYPE];\n",
       "      var script_attrs = bk_div.children[0].attributes;\n",
       "      for (var i = 0; i < script_attrs.length; i++) {\n",
       "        toinsert[toinsert.length - 1].firstChild.setAttribute(script_attrs[i].name, script_attrs[i].value);\n",
       "        toinsert[toinsert.length - 1].firstChild.textContent = bk_div.children[0].textContent\n",
       "      }\n",
       "      // store reference to server id on output_area\n",
       "      output_area._bokeh_server_id = output.metadata[EXEC_MIME_TYPE][\"server_id\"];\n",
       "    }\n",
       "  }\n",
       "\n",
       "  function register_renderer(events, OutputArea) {\n",
       "\n",
       "    function append_mime(data, metadata, element) {\n",
       "      // create a DOM node to render to\n",
       "      var toinsert = this.create_output_subarea(\n",
       "        metadata,\n",
       "        CLASS_NAME,\n",
       "        EXEC_MIME_TYPE\n",
       "      );\n",
       "      this.keyboard_manager.register_events(toinsert);\n",
       "      // Render to node\n",
       "      var props = {data: data, metadata: metadata[EXEC_MIME_TYPE]};\n",
       "      render(props, toinsert[toinsert.length - 1]);\n",
       "      element.append(toinsert);\n",
       "      return toinsert\n",
       "    }\n",
       "\n",
       "    /* Handle when an output is cleared or removed */\n",
       "    events.on('clear_output.CodeCell', handleClearOutput);\n",
       "    events.on('delete.Cell', handleClearOutput);\n",
       "\n",
       "    /* Handle when a new output is added */\n",
       "    events.on('output_added.OutputArea', handleAddOutput);\n",
       "\n",
       "    /**\n",
       "     * Register the mime type and append_mime function with output_area\n",
       "     */\n",
       "    OutputArea.prototype.register_mime_type(EXEC_MIME_TYPE, append_mime, {\n",
       "      /* Is output safe? */\n",
       "      safe: true,\n",
       "      /* Index of renderer in `output_area.display_order` */\n",
       "      index: 0\n",
       "    });\n",
       "  }\n",
       "\n",
       "  // register the mime type if in Jupyter Notebook environment and previously unregistered\n",
       "  if (root.Jupyter !== undefined) {\n",
       "    var events = require('base/js/events');\n",
       "    var OutputArea = require('notebook/js/outputarea').OutputArea;\n",
       "\n",
       "    if (OutputArea.prototype.mime_types().indexOf(EXEC_MIME_TYPE) == -1) {\n",
       "      register_renderer(events, OutputArea);\n",
       "    }\n",
       "  }\n",
       "\n",
       "  \n",
       "  if (typeof (root._bokeh_timeout) === \"undefined\" || force === true) {\n",
       "    root._bokeh_timeout = Date.now() + 5000;\n",
       "    root._bokeh_failed_load = false;\n",
       "  }\n",
       "\n",
       "  var NB_LOAD_WARNING = {'data': {'text/html':\n",
       "     \"<div style='background-color: #fdd'>\\n\"+\n",
       "     \"<p>\\n\"+\n",
       "     \"BokehJS does not appear to have successfully loaded. If loading BokehJS from CDN, this \\n\"+\n",
       "     \"may be due to a slow or bad network connection. Possible fixes:\\n\"+\n",
       "     \"</p>\\n\"+\n",
       "     \"<ul>\\n\"+\n",
       "     \"<li>re-rerun `output_notebook()` to attempt to load from CDN again, or</li>\\n\"+\n",
       "     \"<li>use INLINE resources instead, as so:</li>\\n\"+\n",
       "     \"</ul>\\n\"+\n",
       "     \"<code>\\n\"+\n",
       "     \"from bokeh.resources import INLINE\\n\"+\n",
       "     \"output_notebook(resources=INLINE)\\n\"+\n",
       "     \"</code>\\n\"+\n",
       "     \"</div>\"}};\n",
       "\n",
       "  function display_loaded() {\n",
       "    var el = document.getElementById(\"1002\");\n",
       "    if (el != null) {\n",
       "      el.textContent = \"BokehJS is loading...\";\n",
       "    }\n",
       "    if (root.Bokeh !== undefined) {\n",
       "      if (el != null) {\n",
       "        el.textContent = \"BokehJS \" + root.Bokeh.version + \" successfully loaded.\";\n",
       "      }\n",
       "    } else if (Date.now() < root._bokeh_timeout) {\n",
       "      setTimeout(display_loaded, 100)\n",
       "    }\n",
       "  }\n",
       "\n",
       "\n",
       "  function run_callbacks() {\n",
       "    try {\n",
       "      root._bokeh_onload_callbacks.forEach(function(callback) {\n",
       "        if (callback != null)\n",
       "          callback();\n",
       "      });\n",
       "    } finally {\n",
       "      delete root._bokeh_onload_callbacks\n",
       "    }\n",
       "    console.debug(\"Bokeh: all callbacks have finished\");\n",
       "  }\n",
       "\n",
       "  function load_libs(css_urls, js_urls, callback) {\n",
       "    if (css_urls == null) css_urls = [];\n",
       "    if (js_urls == null) js_urls = [];\n",
       "\n",
       "    root._bokeh_onload_callbacks.push(callback);\n",
       "    if (root._bokeh_is_loading > 0) {\n",
       "      console.debug(\"Bokeh: BokehJS is being loaded, scheduling callback at\", now());\n",
       "      return null;\n",
       "    }\n",
       "    if (js_urls == null || js_urls.length === 0) {\n",
       "      run_callbacks();\n",
       "      return null;\n",
       "    }\n",
       "    console.debug(\"Bokeh: BokehJS not loaded, scheduling load and callback at\", now());\n",
       "    root._bokeh_is_loading = css_urls.length + js_urls.length;\n",
       "\n",
       "    function on_load() {\n",
       "      root._bokeh_is_loading--;\n",
       "      if (root._bokeh_is_loading === 0) {\n",
       "        console.debug(\"Bokeh: all BokehJS libraries/stylesheets loaded\");\n",
       "        run_callbacks()\n",
       "      }\n",
       "    }\n",
       "\n",
       "    function on_error(url) {\n",
       "      console.error(\"failed to load \" + url);\n",
       "    }\n",
       "\n",
       "    for (let i = 0; i < css_urls.length; i++) {\n",
       "      const url = css_urls[i];\n",
       "      const element = document.createElement(\"link\");\n",
       "      element.onload = on_load;\n",
       "      element.onerror = on_error.bind(null, url);\n",
       "      element.rel = \"stylesheet\";\n",
       "      element.type = \"text/css\";\n",
       "      element.href = url;\n",
       "      console.debug(\"Bokeh: injecting link tag for BokehJS stylesheet: \", url);\n",
       "      document.body.appendChild(element);\n",
       "    }\n",
       "\n",
       "    const hashes = {\"https://cdn.bokeh.org/bokeh/release/bokeh-2.3.2.min.js\": \"XypntL49z55iwGVUW4qsEu83zKL3XEcz0MjuGOQ9SlaaQ68X/g+k1FcioZi7oQAc\", \"https://cdn.bokeh.org/bokeh/release/bokeh-tables-2.3.2.min.js\": \"bEsM86IHGDTLCS0Zod8a8WM6Y4+lafAL/eSiyQcuPzinmWNgNO2/olUF0Z2Dkn5i\", \"https://cdn.bokeh.org/bokeh/release/bokeh-widgets-2.3.2.min.js\": \"TX0gSQTdXTTeScqxj6PVQxTiRW8DOoGVwinyi1D3kxv7wuxQ02XkOxv0xwiypcAH\"};\n",
       "\n",
       "    for (let i = 0; i < js_urls.length; i++) {\n",
       "      const url = js_urls[i];\n",
       "      const element = document.createElement('script');\n",
       "      element.onload = on_load;\n",
       "      element.onerror = on_error.bind(null, url);\n",
       "      element.async = false;\n",
       "      element.src = url;\n",
       "      if (url in hashes) {\n",
       "        element.crossOrigin = \"anonymous\";\n",
       "        element.integrity = \"sha384-\" + hashes[url];\n",
       "      }\n",
       "      console.debug(\"Bokeh: injecting script tag for BokehJS library: \", url);\n",
       "      document.head.appendChild(element);\n",
       "    }\n",
       "  };\n",
       "\n",
       "  function inject_raw_css(css) {\n",
       "    const element = document.createElement(\"style\");\n",
       "    element.appendChild(document.createTextNode(css));\n",
       "    document.body.appendChild(element);\n",
       "  }\n",
       "\n",
       "  \n",
       "  var js_urls = [\"https://cdn.bokeh.org/bokeh/release/bokeh-2.3.2.min.js\", \"https://cdn.bokeh.org/bokeh/release/bokeh-widgets-2.3.2.min.js\", \"https://cdn.bokeh.org/bokeh/release/bokeh-tables-2.3.2.min.js\"];\n",
       "  var css_urls = [];\n",
       "  \n",
       "\n",
       "  var inline_js = [\n",
       "    function(Bokeh) {\n",
       "      Bokeh.set_log_level(\"info\");\n",
       "    },\n",
       "    function(Bokeh) {\n",
       "    \n",
       "    \n",
       "    }\n",
       "  ];\n",
       "\n",
       "  function run_inline_js() {\n",
       "    \n",
       "    if (root.Bokeh !== undefined || force === true) {\n",
       "      \n",
       "    for (var i = 0; i < inline_js.length; i++) {\n",
       "      inline_js[i].call(root, root.Bokeh);\n",
       "    }\n",
       "    if (force === true) {\n",
       "        display_loaded();\n",
       "      }} else if (Date.now() < root._bokeh_timeout) {\n",
       "      setTimeout(run_inline_js, 100);\n",
       "    } else if (!root._bokeh_failed_load) {\n",
       "      console.log(\"Bokeh: BokehJS failed to load within specified timeout.\");\n",
       "      root._bokeh_failed_load = true;\n",
       "    } else if (force !== true) {\n",
       "      var cell = $(document.getElementById(\"1002\")).parents('.cell').data().cell;\n",
       "      cell.output_area.append_execute_result(NB_LOAD_WARNING)\n",
       "    }\n",
       "\n",
       "  }\n",
       "\n",
       "  if (root._bokeh_is_loading === 0) {\n",
       "    console.debug(\"Bokeh: BokehJS loaded, going straight to plotting\");\n",
       "    run_inline_js();\n",
       "  } else {\n",
       "    load_libs(css_urls, js_urls, function() {\n",
       "      console.debug(\"Bokeh: BokehJS plotting callback run at\", now());\n",
       "      run_inline_js();\n",
       "    });\n",
       "  }\n",
       "}(window));"
      ],
      "application/vnd.bokehjs_load.v0+json": "\n(function(root) {\n  function now() {\n    return new Date();\n  }\n\n  var force = true;\n\n  if (typeof root._bokeh_onload_callbacks === \"undefined\" || force === true) {\n    root._bokeh_onload_callbacks = [];\n    root._bokeh_is_loading = undefined;\n  }\n\n  \n\n  \n  if (typeof (root._bokeh_timeout) === \"undefined\" || force === true) {\n    root._bokeh_timeout = Date.now() + 5000;\n    root._bokeh_failed_load = false;\n  }\n\n  var NB_LOAD_WARNING = {'data': {'text/html':\n     \"<div style='background-color: #fdd'>\\n\"+\n     \"<p>\\n\"+\n     \"BokehJS does not appear to have successfully loaded. If loading BokehJS from CDN, this \\n\"+\n     \"may be due to a slow or bad network connection. Possible fixes:\\n\"+\n     \"</p>\\n\"+\n     \"<ul>\\n\"+\n     \"<li>re-rerun `output_notebook()` to attempt to load from CDN again, or</li>\\n\"+\n     \"<li>use INLINE resources instead, as so:</li>\\n\"+\n     \"</ul>\\n\"+\n     \"<code>\\n\"+\n     \"from bokeh.resources import INLINE\\n\"+\n     \"output_notebook(resources=INLINE)\\n\"+\n     \"</code>\\n\"+\n     \"</div>\"}};\n\n  function display_loaded() {\n    var el = document.getElementById(\"1002\");\n    if (el != null) {\n      el.textContent = \"BokehJS is loading...\";\n    }\n    if (root.Bokeh !== undefined) {\n      if (el != null) {\n        el.textContent = \"BokehJS \" + root.Bokeh.version + \" successfully loaded.\";\n      }\n    } else if (Date.now() < root._bokeh_timeout) {\n      setTimeout(display_loaded, 100)\n    }\n  }\n\n\n  function run_callbacks() {\n    try {\n      root._bokeh_onload_callbacks.forEach(function(callback) {\n        if (callback != null)\n          callback();\n      });\n    } finally {\n      delete root._bokeh_onload_callbacks\n    }\n    console.debug(\"Bokeh: all callbacks have finished\");\n  }\n\n  function load_libs(css_urls, js_urls, callback) {\n    if (css_urls == null) css_urls = [];\n    if (js_urls == null) js_urls = [];\n\n    root._bokeh_onload_callbacks.push(callback);\n    if (root._bokeh_is_loading > 0) {\n      console.debug(\"Bokeh: BokehJS is being loaded, scheduling callback at\", now());\n      return null;\n    }\n    if (js_urls == null || js_urls.length === 0) {\n      run_callbacks();\n      return null;\n    }\n    console.debug(\"Bokeh: BokehJS not loaded, scheduling load and callback at\", now());\n    root._bokeh_is_loading = css_urls.length + js_urls.length;\n\n    function on_load() {\n      root._bokeh_is_loading--;\n      if (root._bokeh_is_loading === 0) {\n        console.debug(\"Bokeh: all BokehJS libraries/stylesheets loaded\");\n        run_callbacks()\n      }\n    }\n\n    function on_error(url) {\n      console.error(\"failed to load \" + url);\n    }\n\n    for (let i = 0; i < css_urls.length; i++) {\n      const url = css_urls[i];\n      const element = document.createElement(\"link\");\n      element.onload = on_load;\n      element.onerror = on_error.bind(null, url);\n      element.rel = \"stylesheet\";\n      element.type = \"text/css\";\n      element.href = url;\n      console.debug(\"Bokeh: injecting link tag for BokehJS stylesheet: \", url);\n      document.body.appendChild(element);\n    }\n\n    const hashes = {\"https://cdn.bokeh.org/bokeh/release/bokeh-2.3.2.min.js\": \"XypntL49z55iwGVUW4qsEu83zKL3XEcz0MjuGOQ9SlaaQ68X/g+k1FcioZi7oQAc\", \"https://cdn.bokeh.org/bokeh/release/bokeh-tables-2.3.2.min.js\": \"bEsM86IHGDTLCS0Zod8a8WM6Y4+lafAL/eSiyQcuPzinmWNgNO2/olUF0Z2Dkn5i\", \"https://cdn.bokeh.org/bokeh/release/bokeh-widgets-2.3.2.min.js\": \"TX0gSQTdXTTeScqxj6PVQxTiRW8DOoGVwinyi1D3kxv7wuxQ02XkOxv0xwiypcAH\"};\n\n    for (let i = 0; i < js_urls.length; i++) {\n      const url = js_urls[i];\n      const element = document.createElement('script');\n      element.onload = on_load;\n      element.onerror = on_error.bind(null, url);\n      element.async = false;\n      element.src = url;\n      if (url in hashes) {\n        element.crossOrigin = \"anonymous\";\n        element.integrity = \"sha384-\" + hashes[url];\n      }\n      console.debug(\"Bokeh: injecting script tag for BokehJS library: \", url);\n      document.head.appendChild(element);\n    }\n  };\n\n  function inject_raw_css(css) {\n    const element = document.createElement(\"style\");\n    element.appendChild(document.createTextNode(css));\n    document.body.appendChild(element);\n  }\n\n  \n  var js_urls = [\"https://cdn.bokeh.org/bokeh/release/bokeh-2.3.2.min.js\", \"https://cdn.bokeh.org/bokeh/release/bokeh-widgets-2.3.2.min.js\", \"https://cdn.bokeh.org/bokeh/release/bokeh-tables-2.3.2.min.js\"];\n  var css_urls = [];\n  \n\n  var inline_js = [\n    function(Bokeh) {\n      Bokeh.set_log_level(\"info\");\n    },\n    function(Bokeh) {\n    \n    \n    }\n  ];\n\n  function run_inline_js() {\n    \n    if (root.Bokeh !== undefined || force === true) {\n      \n    for (var i = 0; i < inline_js.length; i++) {\n      inline_js[i].call(root, root.Bokeh);\n    }\n    if (force === true) {\n        display_loaded();\n      }} else if (Date.now() < root._bokeh_timeout) {\n      setTimeout(run_inline_js, 100);\n    } else if (!root._bokeh_failed_load) {\n      console.log(\"Bokeh: BokehJS failed to load within specified timeout.\");\n      root._bokeh_failed_load = true;\n    } else if (force !== true) {\n      var cell = $(document.getElementById(\"1002\")).parents('.cell').data().cell;\n      cell.output_area.append_execute_result(NB_LOAD_WARNING)\n    }\n\n  }\n\n  if (root._bokeh_is_loading === 0) {\n    console.debug(\"Bokeh: BokehJS loaded, going straight to plotting\");\n    run_inline_js();\n  } else {\n    load_libs(css_urls, js_urls, function() {\n      console.debug(\"Bokeh: BokehJS plotting callback run at\", now());\n      run_inline_js();\n    });\n  }\n}(window));"
     },
     "metadata": {},
     "output_type": "display_data"
    }
   ],
   "source": [
    "from bokeh.io import push_notebook, show, output_notebook\n",
    "from bokeh.layouts import row\n",
    "from bokeh.plotting import figure\n",
    "from bokeh.models import LinearAxis, Range1d\n",
    "output_notebook()"
   ]
  },
  {
   "cell_type": "code",
   "execution_count": 2,
   "id": "27c54e9f",
   "metadata": {},
   "outputs": [],
   "source": [
    "%load_ext autoreload\n",
    "%autoreload 2"
   ]
  },
  {
   "cell_type": "code",
   "execution_count": 3,
   "id": "49682401",
   "metadata": {},
   "outputs": [],
   "source": [
    "\n",
    "def plot_head_pruning(perfs, times, title=''):\n",
    "    plot = figure(\n",
    "        y_range=[0, 0.5],\n",
    "        x_axis_label='Ratio of pruned heads',\n",
    "        y_axis_label='WER',\n",
    "        width=800, height=400,\n",
    "        title=title\n",
    "    )\n",
    "    plot.add_layout(LinearAxis(y_range_name=\"time\", axis_label='Time (sec)'), 'right')\n",
    "    plot.extra_y_ranges = {\"time\": Range1d(start=0, end=100)}\n",
    "\n",
    "    ratios = [r / 10 for r in range(10)]\n",
    "\n",
    "    plot.line(ratios, perfs, legend_label='WER', line_width=2, color='red')\n",
    "    plot.line(ratios, times, legend_label='Time', line_width=2, y_range_name='time')\n",
    "\n",
    "    show(plot)"
   ]
  },
  {
   "cell_type": "code",
   "execution_count": 4,
   "id": "7e7b6f8c",
   "metadata": {},
   "outputs": [
    {
     "name": "stderr",
     "output_type": "stream",
     "text": [
      "BokehUserWarning: ColumnDataSource's columns must be of the same length. Current lengths: ('x', 10), ('y', 11)\n"
     ]
    },
    {
     "data": {
      "text/html": [
       "\n",
       "\n",
       "\n",
       "\n",
       "\n",
       "\n",
       "  <div class=\"bk-root\" id=\"7581aeb0-0b2e-422b-9cd0-e94a0cce7609\" data-root-id=\"1003\"></div>\n"
      ]
     },
     "metadata": {},
     "output_type": "display_data"
    },
    {
     "data": {
      "application/javascript": [
       "(function(root) {\n",
       "  function embed_document(root) {\n",
       "    \n",
       "  var docs_json = {\"41bb9907-7cd4-415a-b904-f58064f9a9af\":{\"defs\":[],\"roots\":{\"references\":[{\"attributes\":{\"below\":[{\"id\":\"1014\"}],\"center\":[{\"id\":\"1017\"},{\"id\":\"1021\"},{\"id\":\"1056\"}],\"extra_y_ranges\":{\"time\":{\"id\":\"1037\"}},\"height\":400,\"left\":[{\"id\":\"1018\"}],\"renderers\":[{\"id\":\"1041\"},{\"id\":\"1061\"}],\"right\":[{\"id\":\"1036\"}],\"title\":{\"id\":\"1004\"},\"toolbar\":{\"id\":\"1029\"},\"width\":800,\"x_range\":{\"id\":\"1006\"},\"x_scale\":{\"id\":\"1010\"},\"y_range\":{\"id\":\"1008\"},\"y_scale\":{\"id\":\"1012\"}},\"id\":\"1003\",\"subtype\":\"Figure\",\"type\":\"Plot\"},{\"attributes\":{\"end\":0.5},\"id\":\"1008\",\"type\":\"Range1d\"},{\"attributes\":{},\"id\":\"1047\",\"type\":\"AllLabels\"},{\"attributes\":{},\"id\":\"1048\",\"type\":\"BasicTicker\"},{\"attributes\":{\"active_multi\":null,\"tools\":[{\"id\":\"1022\"},{\"id\":\"1023\"},{\"id\":\"1024\"},{\"id\":\"1025\"},{\"id\":\"1026\"},{\"id\":\"1027\"}]},\"id\":\"1029\",\"type\":\"Toolbar\"},{\"attributes\":{},\"id\":\"1049\",\"type\":\"BasicTickFormatter\"},{\"attributes\":{\"axis_label\":\"Ratio of retained heads\",\"formatter\":{\"id\":\"1046\"},\"major_label_policy\":{\"id\":\"1044\"},\"ticker\":{\"id\":\"1015\"}},\"id\":\"1014\",\"type\":\"LinearAxis\"},{\"attributes\":{\"source\":{\"id\":\"1038\"}},\"id\":\"1042\",\"type\":\"CDSView\"},{\"attributes\":{},\"id\":\"1027\",\"type\":\"HelpTool\"},{\"attributes\":{},\"id\":\"1054\",\"type\":\"UnionRenderers\"},{\"attributes\":{},\"id\":\"1075\",\"type\":\"Selection\"},{\"attributes\":{},\"id\":\"1022\",\"type\":\"PanTool\"},{\"attributes\":{\"data\":{\"x\":[0.0,0.1,0.2,0.3,0.4,0.5,0.6,0.7,0.8,0.9],\"y\":[0.032,0.032,0.035,0.038,0.046,0.062,0.103,0.165,0.598,0.884]},\"selected\":{\"id\":\"1053\"},\"selection_policy\":{\"id\":\"1054\"}},\"id\":\"1038\",\"type\":\"ColumnDataSource\"},{\"attributes\":{},\"id\":\"1046\",\"type\":\"BasicTickFormatter\"},{\"attributes\":{\"overlay\":{\"id\":\"1028\"}},\"id\":\"1024\",\"type\":\"BoxZoomTool\"},{\"attributes\":{\"line_color\":\"red\",\"line_width\":2,\"x\":{\"field\":\"x\"},\"y\":{\"field\":\"y\"}},\"id\":\"1039\",\"type\":\"Line\"},{\"attributes\":{},\"id\":\"1025\",\"type\":\"SaveTool\"},{\"attributes\":{},\"id\":\"1053\",\"type\":\"Selection\"},{\"attributes\":{},\"id\":\"1026\",\"type\":\"ResetTool\"},{\"attributes\":{},\"id\":\"1076\",\"type\":\"UnionRenderers\"},{\"attributes\":{\"items\":[{\"id\":\"1057\"},{\"id\":\"1078\"}]},\"id\":\"1056\",\"type\":\"Legend\"},{\"attributes\":{},\"id\":\"1050\",\"type\":\"AllLabels\"},{\"attributes\":{\"bottom_units\":\"screen\",\"fill_alpha\":0.5,\"fill_color\":\"lightgrey\",\"left_units\":\"screen\",\"level\":\"overlay\",\"line_alpha\":1.0,\"line_color\":\"black\",\"line_dash\":[4,4],\"line_width\":2,\"right_units\":\"screen\",\"syncable\":false,\"top_units\":\"screen\"},\"id\":\"1028\",\"type\":\"BoxAnnotation\"},{\"attributes\":{\"line_alpha\":0.1,\"line_color\":\"red\",\"line_width\":2,\"x\":{\"field\":\"x\"},\"y\":{\"field\":\"y\"}},\"id\":\"1040\",\"type\":\"Line\"},{\"attributes\":{},\"id\":\"1052\",\"type\":\"BasicTickFormatter\"},{\"attributes\":{\"line_color\":\"#1f77b4\",\"line_width\":2,\"x\":{\"field\":\"x\"},\"y\":{\"field\":\"y\"}},\"id\":\"1059\",\"type\":\"Line\"},{\"attributes\":{},\"id\":\"1044\",\"type\":\"AllLabels\"},{\"attributes\":{},\"id\":\"1015\",\"type\":\"BasicTicker\"},{\"attributes\":{\"end\":100},\"id\":\"1037\",\"type\":\"Range1d\"},{\"attributes\":{\"data_source\":{\"id\":\"1058\"},\"glyph\":{\"id\":\"1059\"},\"hover_glyph\":null,\"muted_glyph\":null,\"nonselection_glyph\":{\"id\":\"1060\"},\"view\":{\"id\":\"1062\"},\"y_range_name\":\"time\"},\"id\":\"1061\",\"type\":\"GlyphRenderer\"},{\"attributes\":{\"label\":{\"value\":\"WER\"},\"renderers\":[{\"id\":\"1041\"}]},\"id\":\"1057\",\"type\":\"LegendItem\"},{\"attributes\":{},\"id\":\"1010\",\"type\":\"LinearScale\"},{\"attributes\":{},\"id\":\"1006\",\"type\":\"DataRange1d\"},{\"attributes\":{\"data_source\":{\"id\":\"1038\"},\"glyph\":{\"id\":\"1039\"},\"hover_glyph\":null,\"muted_glyph\":null,\"nonselection_glyph\":{\"id\":\"1040\"},\"view\":{\"id\":\"1042\"}},\"id\":\"1041\",\"type\":\"GlyphRenderer\"},{\"attributes\":{},\"id\":\"1023\",\"type\":\"WheelZoomTool\"},{\"attributes\":{\"axis_label\":\"Time (sec)\",\"formatter\":{\"id\":\"1049\"},\"major_label_policy\":{\"id\":\"1047\"},\"ticker\":{\"id\":\"1048\"},\"y_range_name\":\"time\"},\"id\":\"1036\",\"type\":\"LinearAxis\"},{\"attributes\":{},\"id\":\"1012\",\"type\":\"LinearScale\"},{\"attributes\":{\"axis_label\":\"WER\",\"formatter\":{\"id\":\"1052\"},\"major_label_policy\":{\"id\":\"1050\"},\"ticker\":{\"id\":\"1019\"}},\"id\":\"1018\",\"type\":\"LinearAxis\"},{\"attributes\":{\"data\":{\"x\":[0.0,0.1,0.2,0.3,0.4,0.5,0.6,0.7,0.8,0.9],\"y\":[91.31,90.66,90.66,94.36,87.88,78.45,78.87,79.71,74.91,56.98,28.19]},\"selected\":{\"id\":\"1075\"},\"selection_policy\":{\"id\":\"1076\"}},\"id\":\"1058\",\"type\":\"ColumnDataSource\"},{\"attributes\":{\"axis\":{\"id\":\"1014\"},\"ticker\":null},\"id\":\"1017\",\"type\":\"Grid\"},{\"attributes\":{\"axis\":{\"id\":\"1018\"},\"dimension\":1,\"ticker\":null},\"id\":\"1021\",\"type\":\"Grid\"},{\"attributes\":{\"text\":\"Beam size: 5\"},\"id\":\"1004\",\"type\":\"Title\"},{\"attributes\":{},\"id\":\"1019\",\"type\":\"BasicTicker\"},{\"attributes\":{\"source\":{\"id\":\"1058\"}},\"id\":\"1062\",\"type\":\"CDSView\"},{\"attributes\":{\"line_alpha\":0.1,\"line_color\":\"#1f77b4\",\"line_width\":2,\"x\":{\"field\":\"x\"},\"y\":{\"field\":\"y\"}},\"id\":\"1060\",\"type\":\"Line\"},{\"attributes\":{\"label\":{\"value\":\"Time\"},\"renderers\":[{\"id\":\"1061\"}]},\"id\":\"1078\",\"type\":\"LegendItem\"}],\"root_ids\":[\"1003\"]},\"title\":\"Bokeh Application\",\"version\":\"2.3.2\"}};\n",
       "  var render_items = [{\"docid\":\"41bb9907-7cd4-415a-b904-f58064f9a9af\",\"root_ids\":[\"1003\"],\"roots\":{\"1003\":\"7581aeb0-0b2e-422b-9cd0-e94a0cce7609\"}}];\n",
       "  root.Bokeh.embed.embed_items_notebook(docs_json, render_items);\n",
       "\n",
       "  }\n",
       "  if (root.Bokeh !== undefined) {\n",
       "    embed_document(root);\n",
       "  } else {\n",
       "    var attempts = 0;\n",
       "    var timer = setInterval(function(root) {\n",
       "      if (root.Bokeh !== undefined) {\n",
       "        clearInterval(timer);\n",
       "        embed_document(root);\n",
       "      } else {\n",
       "        attempts++;\n",
       "        if (attempts > 100) {\n",
       "          clearInterval(timer);\n",
       "          console.log(\"Bokeh: ERROR: Unable to run BokehJS code because BokehJS library is missing\");\n",
       "        }\n",
       "      }\n",
       "    }, 10, root)\n",
       "  }\n",
       "})(window);"
      ],
      "application/vnd.bokehjs_exec.v0+json": ""
     },
     "metadata": {
      "application/vnd.bokehjs_exec.v0+json": {
       "id": "1003"
      }
     },
     "output_type": "display_data"
    },
    {
     "data": {
      "text/html": [
       "\n",
       "\n",
       "\n",
       "\n",
       "\n",
       "\n",
       "  <div class=\"bk-root\" id=\"841ff4bf-ab82-419c-91d6-f79281d6f4b1\" data-root-id=\"1169\"></div>\n"
      ]
     },
     "metadata": {},
     "output_type": "display_data"
    },
    {
     "data": {
      "application/javascript": [
       "(function(root) {\n",
       "  function embed_document(root) {\n",
       "    \n",
       "  var docs_json = {\"09153309-bfc9-4b11-9faa-e7f1a2a7a4b4\":{\"defs\":[],\"roots\":{\"references\":[{\"attributes\":{\"below\":[{\"id\":\"1180\"}],\"center\":[{\"id\":\"1183\"},{\"id\":\"1187\"},{\"id\":\"1222\"}],\"extra_y_ranges\":{\"time\":{\"id\":\"1203\"}},\"height\":400,\"left\":[{\"id\":\"1184\"}],\"renderers\":[{\"id\":\"1207\"},{\"id\":\"1227\"}],\"right\":[{\"id\":\"1202\"}],\"title\":{\"id\":\"1170\"},\"toolbar\":{\"id\":\"1195\"},\"width\":800,\"x_range\":{\"id\":\"1172\"},\"x_scale\":{\"id\":\"1176\"},\"y_range\":{\"id\":\"1174\"},\"y_scale\":{\"id\":\"1178\"}},\"id\":\"1169\",\"subtype\":\"Figure\",\"type\":\"Plot\"},{\"attributes\":{},\"id\":\"1172\",\"type\":\"DataRange1d\"},{\"attributes\":{\"items\":[{\"id\":\"1223\"},{\"id\":\"1244\"}]},\"id\":\"1222\",\"type\":\"Legend\"},{\"attributes\":{},\"id\":\"1216\",\"type\":\"AllLabels\"},{\"attributes\":{\"axis_label\":\"Ratio of retained heads\",\"formatter\":{\"id\":\"1212\"},\"major_label_policy\":{\"id\":\"1210\"},\"ticker\":{\"id\":\"1181\"}},\"id\":\"1180\",\"type\":\"LinearAxis\"},{\"attributes\":{\"line_alpha\":0.1,\"line_color\":\"red\",\"line_width\":2,\"x\":{\"field\":\"x\"},\"y\":{\"field\":\"y\"}},\"id\":\"1206\",\"type\":\"Line\"},{\"attributes\":{},\"id\":\"1189\",\"type\":\"WheelZoomTool\"},{\"attributes\":{},\"id\":\"1178\",\"type\":\"LinearScale\"},{\"attributes\":{\"end\":0.5},\"id\":\"1174\",\"type\":\"Range1d\"},{\"attributes\":{},\"id\":\"1218\",\"type\":\"BasicTickFormatter\"},{\"attributes\":{},\"id\":\"1176\",\"type\":\"LinearScale\"},{\"attributes\":{\"end\":100},\"id\":\"1203\",\"type\":\"Range1d\"},{\"attributes\":{\"axis\":{\"id\":\"1180\"},\"ticker\":null},\"id\":\"1183\",\"type\":\"Grid\"},{\"attributes\":{\"axis_label\":\"WER\",\"formatter\":{\"id\":\"1218\"},\"major_label_policy\":{\"id\":\"1216\"},\"ticker\":{\"id\":\"1185\"}},\"id\":\"1184\",\"type\":\"LinearAxis\"},{\"attributes\":{\"axis\":{\"id\":\"1184\"},\"dimension\":1,\"ticker\":null},\"id\":\"1187\",\"type\":\"Grid\"},{\"attributes\":{},\"id\":\"1210\",\"type\":\"AllLabels\"},{\"attributes\":{},\"id\":\"1215\",\"type\":\"BasicTickFormatter\"},{\"attributes\":{},\"id\":\"1185\",\"type\":\"BasicTicker\"},{\"attributes\":{},\"id\":\"1193\",\"type\":\"HelpTool\"},{\"attributes\":{},\"id\":\"1188\",\"type\":\"PanTool\"},{\"attributes\":{\"label\":{\"value\":\"WER\"},\"renderers\":[{\"id\":\"1207\"}]},\"id\":\"1223\",\"type\":\"LegendItem\"},{\"attributes\":{\"active_multi\":null,\"tools\":[{\"id\":\"1188\"},{\"id\":\"1189\"},{\"id\":\"1190\"},{\"id\":\"1191\"},{\"id\":\"1192\"},{\"id\":\"1193\"}]},\"id\":\"1195\",\"type\":\"Toolbar\"},{\"attributes\":{\"data_source\":{\"id\":\"1204\"},\"glyph\":{\"id\":\"1205\"},\"hover_glyph\":null,\"muted_glyph\":null,\"nonselection_glyph\":{\"id\":\"1206\"},\"view\":{\"id\":\"1208\"}},\"id\":\"1207\",\"type\":\"GlyphRenderer\"},{\"attributes\":{},\"id\":\"1219\",\"type\":\"Selection\"},{\"attributes\":{\"data_source\":{\"id\":\"1224\"},\"glyph\":{\"id\":\"1225\"},\"hover_glyph\":null,\"muted_glyph\":null,\"nonselection_glyph\":{\"id\":\"1226\"},\"view\":{\"id\":\"1228\"},\"y_range_name\":\"time\"},\"id\":\"1227\",\"type\":\"GlyphRenderer\"},{\"attributes\":{},\"id\":\"1212\",\"type\":\"BasicTickFormatter\"},{\"attributes\":{\"data\":{\"x\":[0.0,0.1,0.2,0.3,0.4,0.5,0.6,0.7,0.8,0.9],\"y\":[0.03408399269628728,0.034388314059646985,0.03638542300669507,0.040227480219111385,0.04842513694461351,0.06516281192939745,0.10649345709068776,0.17121880706025563,0.5995701460742544,0.8795458003651856]},\"selected\":{\"id\":\"1219\"},\"selection_policy\":{\"id\":\"1220\"}},\"id\":\"1204\",\"type\":\"ColumnDataSource\"},{\"attributes\":{\"data\":{\"x\":[0.0,0.1,0.2,0.3,0.4,0.5,0.6,0.7,0.8,0.9],\"y\":[69.9738,69.5449,67.651,60.0101,61.1342,62.1088,59.7755,62.6023,36.6256,27.8764]},\"selected\":{\"id\":\"1241\"},\"selection_policy\":{\"id\":\"1242\"}},\"id\":\"1224\",\"type\":\"ColumnDataSource\"},{\"attributes\":{\"axis_label\":\"Time (sec)\",\"formatter\":{\"id\":\"1215\"},\"major_label_policy\":{\"id\":\"1213\"},\"ticker\":{\"id\":\"1214\"},\"y_range_name\":\"time\"},\"id\":\"1202\",\"type\":\"LinearAxis\"},{\"attributes\":{},\"id\":\"1214\",\"type\":\"BasicTicker\"},{\"attributes\":{},\"id\":\"1241\",\"type\":\"Selection\"},{\"attributes\":{\"source\":{\"id\":\"1224\"}},\"id\":\"1228\",\"type\":\"CDSView\"},{\"attributes\":{\"bottom_units\":\"screen\",\"fill_alpha\":0.5,\"fill_color\":\"lightgrey\",\"left_units\":\"screen\",\"level\":\"overlay\",\"line_alpha\":1.0,\"line_color\":\"black\",\"line_dash\":[4,4],\"line_width\":2,\"right_units\":\"screen\",\"syncable\":false,\"top_units\":\"screen\"},\"id\":\"1194\",\"type\":\"BoxAnnotation\"},{\"attributes\":{\"source\":{\"id\":\"1204\"}},\"id\":\"1208\",\"type\":\"CDSView\"},{\"attributes\":{\"line_alpha\":0.1,\"line_color\":\"#1f77b4\",\"line_width\":2,\"x\":{\"field\":\"x\"},\"y\":{\"field\":\"y\"}},\"id\":\"1226\",\"type\":\"Line\"},{\"attributes\":{},\"id\":\"1213\",\"type\":\"AllLabels\"},{\"attributes\":{},\"id\":\"1220\",\"type\":\"UnionRenderers\"},{\"attributes\":{\"line_color\":\"#1f77b4\",\"line_width\":2,\"x\":{\"field\":\"x\"},\"y\":{\"field\":\"y\"}},\"id\":\"1225\",\"type\":\"Line\"},{\"attributes\":{\"line_color\":\"red\",\"line_width\":2,\"x\":{\"field\":\"x\"},\"y\":{\"field\":\"y\"}},\"id\":\"1205\",\"type\":\"Line\"},{\"attributes\":{},\"id\":\"1242\",\"type\":\"UnionRenderers\"},{\"attributes\":{\"label\":{\"value\":\"Time\"},\"renderers\":[{\"id\":\"1227\"}]},\"id\":\"1244\",\"type\":\"LegendItem\"},{\"attributes\":{},\"id\":\"1192\",\"type\":\"ResetTool\"},{\"attributes\":{},\"id\":\"1181\",\"type\":\"BasicTicker\"},{\"attributes\":{},\"id\":\"1191\",\"type\":\"SaveTool\"},{\"attributes\":{\"overlay\":{\"id\":\"1194\"}},\"id\":\"1190\",\"type\":\"BoxZoomTool\"},{\"attributes\":{\"text\":\"Beam size: 3\"},\"id\":\"1170\",\"type\":\"Title\"}],\"root_ids\":[\"1169\"]},\"title\":\"Bokeh Application\",\"version\":\"2.3.2\"}};\n",
       "  var render_items = [{\"docid\":\"09153309-bfc9-4b11-9faa-e7f1a2a7a4b4\",\"root_ids\":[\"1169\"],\"roots\":{\"1169\":\"841ff4bf-ab82-419c-91d6-f79281d6f4b1\"}}];\n",
       "  root.Bokeh.embed.embed_items_notebook(docs_json, render_items);\n",
       "\n",
       "  }\n",
       "  if (root.Bokeh !== undefined) {\n",
       "    embed_document(root);\n",
       "  } else {\n",
       "    var attempts = 0;\n",
       "    var timer = setInterval(function(root) {\n",
       "      if (root.Bokeh !== undefined) {\n",
       "        clearInterval(timer);\n",
       "        embed_document(root);\n",
       "      } else {\n",
       "        attempts++;\n",
       "        if (attempts > 100) {\n",
       "          clearInterval(timer);\n",
       "          console.log(\"Bokeh: ERROR: Unable to run BokehJS code because BokehJS library is missing\");\n",
       "        }\n",
       "      }\n",
       "    }, 10, root)\n",
       "  }\n",
       "})(window);"
      ],
      "application/vnd.bokehjs_exec.v0+json": ""
     },
     "metadata": {
      "application/vnd.bokehjs_exec.v0+json": {
       "id": "1169"
      }
     },
     "output_type": "display_data"
    },
    {
     "data": {
      "text/html": [
       "\n",
       "\n",
       "\n",
       "\n",
       "\n",
       "\n",
       "  <div class=\"bk-root\" id=\"be6d235c-2cff-4e21-8933-258253cb9a1c\" data-root-id=\"1350\"></div>\n"
      ]
     },
     "metadata": {},
     "output_type": "display_data"
    },
    {
     "data": {
      "application/javascript": [
       "(function(root) {\n",
       "  function embed_document(root) {\n",
       "    \n",
       "  var docs_json = {\"fea81167-0d29-4b37-896c-9038e4fa7e16\":{\"defs\":[],\"roots\":{\"references\":[{\"attributes\":{\"below\":[{\"id\":\"1361\"}],\"center\":[{\"id\":\"1364\"},{\"id\":\"1368\"},{\"id\":\"1403\"}],\"extra_y_ranges\":{\"time\":{\"id\":\"1384\"}},\"height\":400,\"left\":[{\"id\":\"1365\"}],\"renderers\":[{\"id\":\"1388\"},{\"id\":\"1408\"}],\"right\":[{\"id\":\"1383\"}],\"title\":{\"id\":\"1351\"},\"toolbar\":{\"id\":\"1376\"},\"width\":800,\"x_range\":{\"id\":\"1353\"},\"x_scale\":{\"id\":\"1357\"},\"y_range\":{\"id\":\"1355\"},\"y_scale\":{\"id\":\"1359\"}},\"id\":\"1350\",\"subtype\":\"Figure\",\"type\":\"Plot\"},{\"attributes\":{\"data_source\":{\"id\":\"1385\"},\"glyph\":{\"id\":\"1386\"},\"hover_glyph\":null,\"muted_glyph\":null,\"nonselection_glyph\":{\"id\":\"1387\"},\"view\":{\"id\":\"1389\"}},\"id\":\"1388\",\"type\":\"GlyphRenderer\"},{\"attributes\":{\"source\":{\"id\":\"1385\"}},\"id\":\"1389\",\"type\":\"CDSView\"},{\"attributes\":{\"label\":{\"value\":\"WER\"},\"renderers\":[{\"id\":\"1388\"}]},\"id\":\"1404\",\"type\":\"LegendItem\"},{\"attributes\":{},\"id\":\"1399\",\"type\":\"BasicTickFormatter\"},{\"attributes\":{\"data\":{\"x\":[0.0,0.1,0.2,0.3,0.4,0.5,0.6,0.7,0.8,0.9],\"y\":[0.046351947656725505,0.045096622032866705,0.047150791235544734,0.05137325015216068,0.06480143031040779,0.08627510651247718,0.14246043822276325,0.21918746195982958,0.6591410529519173,0.8765025867315885]},\"selected\":{\"id\":\"1400\"},\"selection_policy\":{\"id\":\"1401\"}},\"id\":\"1385\",\"type\":\"ColumnDataSource\"},{\"attributes\":{\"items\":[{\"id\":\"1404\"},{\"id\":\"1425\"}]},\"id\":\"1403\",\"type\":\"Legend\"},{\"attributes\":{\"line_color\":\"#1f77b4\",\"line_width\":2,\"x\":{\"field\":\"x\"},\"y\":{\"field\":\"y\"}},\"id\":\"1406\",\"type\":\"Line\"},{\"attributes\":{\"line_color\":\"red\",\"line_width\":2,\"x\":{\"field\":\"x\"},\"y\":{\"field\":\"y\"}},\"id\":\"1386\",\"type\":\"Line\"},{\"attributes\":{},\"id\":\"1397\",\"type\":\"AllLabels\"},{\"attributes\":{},\"id\":\"1353\",\"type\":\"DataRange1d\"},{\"attributes\":{\"line_alpha\":0.1,\"line_color\":\"red\",\"line_width\":2,\"x\":{\"field\":\"x\"},\"y\":{\"field\":\"y\"}},\"id\":\"1387\",\"type\":\"Line\"},{\"attributes\":{\"label\":{\"value\":\"Time\"},\"renderers\":[{\"id\":\"1408\"}]},\"id\":\"1425\",\"type\":\"LegendItem\"},{\"attributes\":{},\"id\":\"1391\",\"type\":\"AllLabels\"},{\"attributes\":{},\"id\":\"1400\",\"type\":\"Selection\"},{\"attributes\":{},\"id\":\"1362\",\"type\":\"BasicTicker\"},{\"attributes\":{\"axis_label\":\"Time (sec)\",\"formatter\":{\"id\":\"1396\"},\"major_label_policy\":{\"id\":\"1394\"},\"ticker\":{\"id\":\"1395\"},\"y_range_name\":\"time\"},\"id\":\"1383\",\"type\":\"LinearAxis\"},{\"attributes\":{\"source\":{\"id\":\"1405\"}},\"id\":\"1409\",\"type\":\"CDSView\"},{\"attributes\":{\"text\":\"Beam size: 1\"},\"id\":\"1351\",\"type\":\"Title\"},{\"attributes\":{\"data\":{\"x\":[0.0,0.1,0.2,0.3,0.4,0.5,0.6,0.7,0.8,0.9],\"y\":[44.4279,44.8921,43.176,38.7973,39.5165,40.1261,37.5563,39.2884,21.2038,16.1966]},\"selected\":{\"id\":\"1422\"},\"selection_policy\":{\"id\":\"1423\"}},\"id\":\"1405\",\"type\":\"ColumnDataSource\"},{\"attributes\":{},\"id\":\"1401\",\"type\":\"UnionRenderers\"},{\"attributes\":{},\"id\":\"1393\",\"type\":\"BasicTickFormatter\"},{\"attributes\":{\"bottom_units\":\"screen\",\"fill_alpha\":0.5,\"fill_color\":\"lightgrey\",\"left_units\":\"screen\",\"level\":\"overlay\",\"line_alpha\":1.0,\"line_color\":\"black\",\"line_dash\":[4,4],\"line_width\":2,\"right_units\":\"screen\",\"syncable\":false,\"top_units\":\"screen\"},\"id\":\"1375\",\"type\":\"BoxAnnotation\"},{\"attributes\":{\"data_source\":{\"id\":\"1405\"},\"glyph\":{\"id\":\"1406\"},\"hover_glyph\":null,\"muted_glyph\":null,\"nonselection_glyph\":{\"id\":\"1407\"},\"view\":{\"id\":\"1409\"},\"y_range_name\":\"time\"},\"id\":\"1408\",\"type\":\"GlyphRenderer\"},{\"attributes\":{\"active_multi\":null,\"tools\":[{\"id\":\"1369\"},{\"id\":\"1370\"},{\"id\":\"1371\"},{\"id\":\"1372\"},{\"id\":\"1373\"},{\"id\":\"1374\"}]},\"id\":\"1376\",\"type\":\"Toolbar\"},{\"attributes\":{\"axis_label\":\"Ratio of retained heads\",\"formatter\":{\"id\":\"1393\"},\"major_label_policy\":{\"id\":\"1391\"},\"ticker\":{\"id\":\"1362\"}},\"id\":\"1361\",\"type\":\"LinearAxis\"},{\"attributes\":{\"line_alpha\":0.1,\"line_color\":\"#1f77b4\",\"line_width\":2,\"x\":{\"field\":\"x\"},\"y\":{\"field\":\"y\"}},\"id\":\"1407\",\"type\":\"Line\"},{\"attributes\":{\"end\":0.5},\"id\":\"1355\",\"type\":\"Range1d\"},{\"attributes\":{},\"id\":\"1357\",\"type\":\"LinearScale\"},{\"attributes\":{},\"id\":\"1359\",\"type\":\"LinearScale\"},{\"attributes\":{\"end\":100},\"id\":\"1384\",\"type\":\"Range1d\"},{\"attributes\":{\"axis\":{\"id\":\"1361\"},\"ticker\":null},\"id\":\"1364\",\"type\":\"Grid\"},{\"attributes\":{},\"id\":\"1394\",\"type\":\"AllLabels\"},{\"attributes\":{},\"id\":\"1370\",\"type\":\"WheelZoomTool\"},{\"attributes\":{\"axis_label\":\"WER\",\"formatter\":{\"id\":\"1399\"},\"major_label_policy\":{\"id\":\"1397\"},\"ticker\":{\"id\":\"1366\"}},\"id\":\"1365\",\"type\":\"LinearAxis\"},{\"attributes\":{},\"id\":\"1422\",\"type\":\"Selection\"},{\"attributes\":{\"axis\":{\"id\":\"1365\"},\"dimension\":1,\"ticker\":null},\"id\":\"1368\",\"type\":\"Grid\"},{\"attributes\":{},\"id\":\"1395\",\"type\":\"BasicTicker\"},{\"attributes\":{},\"id\":\"1366\",\"type\":\"BasicTicker\"},{\"attributes\":{},\"id\":\"1396\",\"type\":\"BasicTickFormatter\"},{\"attributes\":{},\"id\":\"1374\",\"type\":\"HelpTool\"},{\"attributes\":{},\"id\":\"1423\",\"type\":\"UnionRenderers\"},{\"attributes\":{},\"id\":\"1369\",\"type\":\"PanTool\"},{\"attributes\":{\"overlay\":{\"id\":\"1375\"}},\"id\":\"1371\",\"type\":\"BoxZoomTool\"},{\"attributes\":{},\"id\":\"1372\",\"type\":\"SaveTool\"},{\"attributes\":{},\"id\":\"1373\",\"type\":\"ResetTool\"}],\"root_ids\":[\"1350\"]},\"title\":\"Bokeh Application\",\"version\":\"2.3.2\"}};\n",
       "  var render_items = [{\"docid\":\"fea81167-0d29-4b37-896c-9038e4fa7e16\",\"root_ids\":[\"1350\"],\"roots\":{\"1350\":\"be6d235c-2cff-4e21-8933-258253cb9a1c\"}}];\n",
       "  root.Bokeh.embed.embed_items_notebook(docs_json, render_items);\n",
       "\n",
       "  }\n",
       "  if (root.Bokeh !== undefined) {\n",
       "    embed_document(root);\n",
       "  } else {\n",
       "    var attempts = 0;\n",
       "    var timer = setInterval(function(root) {\n",
       "      if (root.Bokeh !== undefined) {\n",
       "        clearInterval(timer);\n",
       "        embed_document(root);\n",
       "      } else {\n",
       "        attempts++;\n",
       "        if (attempts > 100) {\n",
       "          clearInterval(timer);\n",
       "          console.log(\"Bokeh: ERROR: Unable to run BokehJS code because BokehJS library is missing\");\n",
       "        }\n",
       "      }\n",
       "    }, 10, root)\n",
       "  }\n",
       "})(window);"
      ],
      "application/vnd.bokehjs_exec.v0+json": ""
     },
     "metadata": {
      "application/vnd.bokehjs_exec.v0+json": {
       "id": "1350"
      }
     },
     "output_type": "display_data"
    },
    {
     "data": {
      "text/html": [
       "\n",
       "\n",
       "\n",
       "\n",
       "\n",
       "\n",
       "  <div class=\"bk-root\" id=\"9175fe13-99d8-4082-bae9-5abf45014f17\" data-root-id=\"1546\"></div>\n"
      ]
     },
     "metadata": {},
     "output_type": "display_data"
    },
    {
     "data": {
      "application/javascript": [
       "(function(root) {\n",
       "  function embed_document(root) {\n",
       "    \n",
       "  var docs_json = {\"1d4fbbe0-7aaf-4412-a073-e96321230e3c\":{\"defs\":[],\"roots\":{\"references\":[{\"attributes\":{\"below\":[{\"id\":\"1557\"}],\"center\":[{\"id\":\"1560\"},{\"id\":\"1564\"},{\"id\":\"1599\"}],\"extra_y_ranges\":{\"time\":{\"id\":\"1580\"}},\"height\":400,\"left\":[{\"id\":\"1561\"}],\"renderers\":[{\"id\":\"1584\"},{\"id\":\"1604\"}],\"right\":[{\"id\":\"1579\"}],\"title\":{\"id\":\"1547\"},\"toolbar\":{\"id\":\"1572\"},\"width\":800,\"x_range\":{\"id\":\"1549\"},\"x_scale\":{\"id\":\"1553\"},\"y_range\":{\"id\":\"1551\"},\"y_scale\":{\"id\":\"1555\"}},\"id\":\"1546\",\"subtype\":\"Figure\",\"type\":\"Plot\"},{\"attributes\":{},\"id\":\"1589\",\"type\":\"BasicTickFormatter\"},{\"attributes\":{},\"id\":\"1590\",\"type\":\"AllLabels\"},{\"attributes\":{\"line_color\":\"#1f77b4\",\"line_width\":2,\"x\":{\"field\":\"x\"},\"y\":{\"field\":\"y\"}},\"id\":\"1602\",\"type\":\"Line\"},{\"attributes\":{},\"id\":\"1587\",\"type\":\"AllLabels\"},{\"attributes\":{\"label\":{\"value\":\"Time\"},\"renderers\":[{\"id\":\"1604\"}]},\"id\":\"1621\",\"type\":\"LegendItem\"},{\"attributes\":{\"data\":{\"x\":[0.0,0.1,0.2,0.3,0.4,0.5,0.6,0.7,0.8,0.9],\"y\":[0.04456405964698722,0.04481132075471698,0.046998630553864884,0.05243837492391966,0.06383140596469872,0.08882379793061473,0.15029671332927572,0.23767498478393184,0.6199786975045648,0.8607919963481436]},\"selected\":{\"id\":\"1596\"},\"selection_policy\":{\"id\":\"1597\"}},\"id\":\"1581\",\"type\":\"ColumnDataSource\"},{\"attributes\":{\"data_source\":{\"id\":\"1581\"},\"glyph\":{\"id\":\"1582\"},\"hover_glyph\":null,\"muted_glyph\":null,\"nonselection_glyph\":{\"id\":\"1583\"},\"view\":{\"id\":\"1585\"}},\"id\":\"1584\",\"type\":\"GlyphRenderer\"},{\"attributes\":{},\"id\":\"1596\",\"type\":\"Selection\"},{\"attributes\":{},\"id\":\"1549\",\"type\":\"DataRange1d\"},{\"attributes\":{\"items\":[{\"id\":\"1600\"},{\"id\":\"1621\"}]},\"id\":\"1599\",\"type\":\"Legend\"},{\"attributes\":{},\"id\":\"1591\",\"type\":\"BasicTicker\"},{\"attributes\":{\"source\":{\"id\":\"1601\"}},\"id\":\"1605\",\"type\":\"CDSView\"},{\"attributes\":{\"end\":0.5},\"id\":\"1551\",\"type\":\"Range1d\"},{\"attributes\":{\"data\":{\"x\":[0.0,0.1,0.2,0.3,0.4,0.5,0.6,0.7,0.8,0.9],\"y\":[21.681570053100586,20.974687576293945,19.74081039428711,17.510927200317383,17.081056594848633,17.590673446655273,15.915518760681152,17.284034729003906,9.869168281555176,9.287040710449219]},\"selected\":{\"id\":\"1618\"},\"selection_policy\":{\"id\":\"1619\"}},\"id\":\"1601\",\"type\":\"ColumnDataSource\"},{\"attributes\":{},\"id\":\"1592\",\"type\":\"BasicTickFormatter\"},{\"attributes\":{},\"id\":\"1558\",\"type\":\"BasicTicker\"},{\"attributes\":{\"bottom_units\":\"screen\",\"fill_alpha\":0.5,\"fill_color\":\"lightgrey\",\"left_units\":\"screen\",\"level\":\"overlay\",\"line_alpha\":1.0,\"line_color\":\"black\",\"line_dash\":[4,4],\"line_width\":2,\"right_units\":\"screen\",\"syncable\":false,\"top_units\":\"screen\"},\"id\":\"1571\",\"type\":\"BoxAnnotation\"},{\"attributes\":{},\"id\":\"1597\",\"type\":\"UnionRenderers\"},{\"attributes\":{},\"id\":\"1553\",\"type\":\"LinearScale\"},{\"attributes\":{\"axis_label\":\"Ratio of retained heads\",\"formatter\":{\"id\":\"1589\"},\"major_label_policy\":{\"id\":\"1587\"},\"ticker\":{\"id\":\"1558\"}},\"id\":\"1557\",\"type\":\"LinearAxis\"},{\"attributes\":{},\"id\":\"1555\",\"type\":\"LinearScale\"},{\"attributes\":{\"data_source\":{\"id\":\"1601\"},\"glyph\":{\"id\":\"1602\"},\"hover_glyph\":null,\"muted_glyph\":null,\"nonselection_glyph\":{\"id\":\"1603\"},\"view\":{\"id\":\"1605\"},\"y_range_name\":\"time\"},\"id\":\"1604\",\"type\":\"GlyphRenderer\"},{\"attributes\":{\"axis_label\":\"Time (sec)\",\"formatter\":{\"id\":\"1592\"},\"major_label_policy\":{\"id\":\"1590\"},\"ticker\":{\"id\":\"1591\"},\"y_range_name\":\"time\"},\"id\":\"1579\",\"type\":\"LinearAxis\"},{\"attributes\":{\"end\":100},\"id\":\"1580\",\"type\":\"Range1d\"},{\"attributes\":{\"line_alpha\":0.1,\"line_color\":\"#1f77b4\",\"line_width\":2,\"x\":{\"field\":\"x\"},\"y\":{\"field\":\"y\"}},\"id\":\"1603\",\"type\":\"Line\"},{\"attributes\":{\"axis_label\":\"WER\",\"formatter\":{\"id\":\"1595\"},\"major_label_policy\":{\"id\":\"1593\"},\"ticker\":{\"id\":\"1562\"}},\"id\":\"1561\",\"type\":\"LinearAxis\"},{\"attributes\":{},\"id\":\"1566\",\"type\":\"WheelZoomTool\"},{\"attributes\":{},\"id\":\"1593\",\"type\":\"AllLabels\"},{\"attributes\":{\"axis\":{\"id\":\"1557\"},\"ticker\":null},\"id\":\"1560\",\"type\":\"Grid\"},{\"attributes\":{\"axis\":{\"id\":\"1561\"},\"dimension\":1,\"ticker\":null},\"id\":\"1564\",\"type\":\"Grid\"},{\"attributes\":{},\"id\":\"1562\",\"type\":\"BasicTicker\"},{\"attributes\":{\"active_multi\":null,\"tools\":[{\"id\":\"1565\"},{\"id\":\"1566\"},{\"id\":\"1567\"},{\"id\":\"1568\"},{\"id\":\"1569\"},{\"id\":\"1570\"}]},\"id\":\"1572\",\"type\":\"Toolbar\"},{\"attributes\":{},\"id\":\"1618\",\"type\":\"Selection\"},{\"attributes\":{},\"id\":\"1570\",\"type\":\"HelpTool\"},{\"attributes\":{},\"id\":\"1595\",\"type\":\"BasicTickFormatter\"},{\"attributes\":{},\"id\":\"1565\",\"type\":\"PanTool\"},{\"attributes\":{\"overlay\":{\"id\":\"1571\"}},\"id\":\"1567\",\"type\":\"BoxZoomTool\"},{\"attributes\":{\"text\":\"Beam size: 1, no LM\"},\"id\":\"1547\",\"type\":\"Title\"},{\"attributes\":{},\"id\":\"1568\",\"type\":\"SaveTool\"},{\"attributes\":{},\"id\":\"1619\",\"type\":\"UnionRenderers\"},{\"attributes\":{},\"id\":\"1569\",\"type\":\"ResetTool\"},{\"attributes\":{\"label\":{\"value\":\"WER\"},\"renderers\":[{\"id\":\"1584\"}]},\"id\":\"1600\",\"type\":\"LegendItem\"},{\"attributes\":{\"source\":{\"id\":\"1581\"}},\"id\":\"1585\",\"type\":\"CDSView\"},{\"attributes\":{\"line_alpha\":0.1,\"line_color\":\"red\",\"line_width\":2,\"x\":{\"field\":\"x\"},\"y\":{\"field\":\"y\"}},\"id\":\"1583\",\"type\":\"Line\"},{\"attributes\":{\"line_color\":\"red\",\"line_width\":2,\"x\":{\"field\":\"x\"},\"y\":{\"field\":\"y\"}},\"id\":\"1582\",\"type\":\"Line\"}],\"root_ids\":[\"1546\"]},\"title\":\"Bokeh Application\",\"version\":\"2.3.2\"}};\n",
       "  var render_items = [{\"docid\":\"1d4fbbe0-7aaf-4412-a073-e96321230e3c\",\"root_ids\":[\"1546\"],\"roots\":{\"1546\":\"9175fe13-99d8-4082-bae9-5abf45014f17\"}}];\n",
       "  root.Bokeh.embed.embed_items_notebook(docs_json, render_items);\n",
       "\n",
       "  }\n",
       "  if (root.Bokeh !== undefined) {\n",
       "    embed_document(root);\n",
       "  } else {\n",
       "    var attempts = 0;\n",
       "    var timer = setInterval(function(root) {\n",
       "      if (root.Bokeh !== undefined) {\n",
       "        clearInterval(timer);\n",
       "        embed_document(root);\n",
       "      } else {\n",
       "        attempts++;\n",
       "        if (attempts > 100) {\n",
       "          clearInterval(timer);\n",
       "          console.log(\"Bokeh: ERROR: Unable to run BokehJS code because BokehJS library is missing\");\n",
       "        }\n",
       "      }\n",
       "    }, 10, root)\n",
       "  }\n",
       "})(window);"
      ],
      "application/vnd.bokehjs_exec.v0+json": ""
     },
     "metadata": {
      "application/vnd.bokehjs_exec.v0+json": {
       "id": "1546"
      }
     },
     "output_type": "display_data"
    },
    {
     "data": {
      "text/html": [
       "\n",
       "\n",
       "\n",
       "\n",
       "\n",
       "\n",
       "  <div class=\"bk-root\" id=\"5f890189-aae4-477b-949d-ad9fa8a62533\" data-root-id=\"1757\"></div>\n"
      ]
     },
     "metadata": {},
     "output_type": "display_data"
    },
    {
     "data": {
      "application/javascript": [
       "(function(root) {\n",
       "  function embed_document(root) {\n",
       "    \n",
       "  var docs_json = {\"89cd3b29-748a-40ea-b462-6e3e90e6d195\":{\"defs\":[],\"roots\":{\"references\":[{\"attributes\":{\"below\":[{\"id\":\"1768\"}],\"center\":[{\"id\":\"1771\"},{\"id\":\"1775\"},{\"id\":\"1810\"}],\"extra_y_ranges\":{\"time\":{\"id\":\"1791\"}},\"height\":400,\"left\":[{\"id\":\"1772\"}],\"renderers\":[{\"id\":\"1795\"},{\"id\":\"1815\"}],\"right\":[{\"id\":\"1790\"}],\"title\":{\"id\":\"1758\"},\"toolbar\":{\"id\":\"1783\"},\"width\":800,\"x_range\":{\"id\":\"1760\"},\"x_scale\":{\"id\":\"1764\"},\"y_range\":{\"id\":\"1762\"},\"y_scale\":{\"id\":\"1766\"}},\"id\":\"1757\",\"subtype\":\"Figure\",\"type\":\"Plot\"},{\"attributes\":{\"label\":{\"value\":\"Time\"},\"renderers\":[{\"id\":\"1815\"}]},\"id\":\"1832\",\"type\":\"LegendItem\"},{\"attributes\":{\"data_source\":{\"id\":\"1792\"},\"glyph\":{\"id\":\"1793\"},\"hover_glyph\":null,\"muted_glyph\":null,\"nonselection_glyph\":{\"id\":\"1794\"},\"view\":{\"id\":\"1796\"}},\"id\":\"1795\",\"type\":\"GlyphRenderer\"},{\"attributes\":{},\"id\":\"1804\",\"type\":\"AllLabels\"},{\"attributes\":{\"data_source\":{\"id\":\"1812\"},\"glyph\":{\"id\":\"1813\"},\"hover_glyph\":null,\"muted_glyph\":null,\"nonselection_glyph\":{\"id\":\"1814\"},\"view\":{\"id\":\"1816\"},\"y_range_name\":\"time\"},\"id\":\"1815\",\"type\":\"GlyphRenderer\"},{\"attributes\":{\"label\":{\"value\":\"WER\"},\"renderers\":[{\"id\":\"1795\"}]},\"id\":\"1811\",\"type\":\"LegendItem\"},{\"attributes\":{\"source\":{\"id\":\"1792\"}},\"id\":\"1796\",\"type\":\"CDSView\"},{\"attributes\":{\"line_color\":\"red\",\"line_width\":2,\"x\":{\"field\":\"x\"},\"y\":{\"field\":\"y\"}},\"id\":\"1793\",\"type\":\"Line\"},{\"attributes\":{\"line_alpha\":0.1,\"line_color\":\"#1f77b4\",\"line_width\":2,\"x\":{\"field\":\"x\"},\"y\":{\"field\":\"y\"}},\"id\":\"1814\",\"type\":\"Line\"},{\"attributes\":{\"items\":[{\"id\":\"1811\"},{\"id\":\"1832\"}]},\"id\":\"1810\",\"type\":\"Legend\"},{\"attributes\":{\"text\":\"Beam size: 1, no LM, None\"},\"id\":\"1758\",\"type\":\"Title\"},{\"attributes\":{\"line_alpha\":0.1,\"line_color\":\"red\",\"line_width\":2,\"x\":{\"field\":\"x\"},\"y\":{\"field\":\"y\"}},\"id\":\"1794\",\"type\":\"Line\"},{\"attributes\":{},\"id\":\"1806\",\"type\":\"BasicTickFormatter\"},{\"attributes\":{},\"id\":\"1760\",\"type\":\"DataRange1d\"},{\"attributes\":{\"data\":{\"x\":[0.0,0.1,0.2,0.3,0.4,0.5,0.6,0.7,0.8,0.9],\"y\":[0.04456405964698722,0.04465916007303713,0.04549604382227632,0.04762629336579428,0.054245283018867926,0.07788724893487523,0.1262363055386488,0.34211427267194155,0.6326650943396226,0.8607919963481436]},\"selected\":{\"id\":\"1807\"},\"selection_policy\":{\"id\":\"1808\"}},\"id\":\"1792\",\"type\":\"ColumnDataSource\"},{\"attributes\":{\"line_color\":\"#1f77b4\",\"line_width\":2,\"x\":{\"field\":\"x\"},\"y\":{\"field\":\"y\"}},\"id\":\"1813\",\"type\":\"Line\"},{\"attributes\":{\"bottom_units\":\"screen\",\"fill_alpha\":0.5,\"fill_color\":\"lightgrey\",\"left_units\":\"screen\",\"level\":\"overlay\",\"line_alpha\":1.0,\"line_color\":\"black\",\"line_dash\":[4,4],\"line_width\":2,\"right_units\":\"screen\",\"syncable\":false,\"top_units\":\"screen\"},\"id\":\"1782\",\"type\":\"BoxAnnotation\"},{\"attributes\":{\"end\":0.5},\"id\":\"1762\",\"type\":\"Range1d\"},{\"attributes\":{},\"id\":\"1798\",\"type\":\"AllLabels\"},{\"attributes\":{},\"id\":\"1764\",\"type\":\"LinearScale\"},{\"attributes\":{},\"id\":\"1766\",\"type\":\"LinearScale\"},{\"attributes\":{\"axis_label\":\"Ratio of retained heads\",\"formatter\":{\"id\":\"1800\"},\"major_label_policy\":{\"id\":\"1798\"},\"ticker\":{\"id\":\"1769\"}},\"id\":\"1768\",\"type\":\"LinearAxis\"},{\"attributes\":{\"active_multi\":null,\"tools\":[{\"id\":\"1776\"},{\"id\":\"1777\"},{\"id\":\"1778\"},{\"id\":\"1779\"},{\"id\":\"1780\"},{\"id\":\"1781\"}]},\"id\":\"1783\",\"type\":\"Toolbar\"},{\"attributes\":{},\"id\":\"1769\",\"type\":\"BasicTicker\"},{\"attributes\":{\"end\":100},\"id\":\"1791\",\"type\":\"Range1d\"},{\"attributes\":{},\"id\":\"1800\",\"type\":\"BasicTickFormatter\"},{\"attributes\":{\"axis\":{\"id\":\"1768\"},\"ticker\":null},\"id\":\"1771\",\"type\":\"Grid\"},{\"attributes\":{},\"id\":\"1777\",\"type\":\"WheelZoomTool\"},{\"attributes\":{\"axis_label\":\"WER\",\"formatter\":{\"id\":\"1806\"},\"major_label_policy\":{\"id\":\"1804\"},\"ticker\":{\"id\":\"1773\"}},\"id\":\"1772\",\"type\":\"LinearAxis\"},{\"attributes\":{\"axis\":{\"id\":\"1772\"},\"dimension\":1,\"ticker\":null},\"id\":\"1775\",\"type\":\"Grid\"},{\"attributes\":{},\"id\":\"1773\",\"type\":\"BasicTicker\"},{\"attributes\":{},\"id\":\"1801\",\"type\":\"AllLabels\"},{\"attributes\":{},\"id\":\"1781\",\"type\":\"HelpTool\"},{\"attributes\":{\"axis_label\":\"Time (sec)\",\"formatter\":{\"id\":\"1803\"},\"major_label_policy\":{\"id\":\"1801\"},\"ticker\":{\"id\":\"1802\"},\"y_range_name\":\"time\"},\"id\":\"1790\",\"type\":\"LinearAxis\"},{\"attributes\":{},\"id\":\"1776\",\"type\":\"PanTool\"},{\"attributes\":{},\"id\":\"1807\",\"type\":\"Selection\"},{\"attributes\":{\"overlay\":{\"id\":\"1782\"}},\"id\":\"1778\",\"type\":\"BoxZoomTool\"},{\"attributes\":{},\"id\":\"1802\",\"type\":\"BasicTicker\"},{\"attributes\":{},\"id\":\"1779\",\"type\":\"SaveTool\"},{\"attributes\":{},\"id\":\"1780\",\"type\":\"ResetTool\"},{\"attributes\":{},\"id\":\"1829\",\"type\":\"Selection\"},{\"attributes\":{\"source\":{\"id\":\"1812\"}},\"id\":\"1816\",\"type\":\"CDSView\"},{\"attributes\":{\"data\":{\"x\":[0.0,0.1,0.2,0.3,0.4,0.5,0.6,0.7,0.8,0.9],\"y\":[20.26384735107422,21.20014190673828,19.76799774169922,17.644161224365234,17.260480880737305,18.03213119506836,16.215112686157227,15.384403228759766,9.348855972290039,9.18283748626709]},\"selected\":{\"id\":\"1829\"},\"selection_policy\":{\"id\":\"1830\"}},\"id\":\"1812\",\"type\":\"ColumnDataSource\"},{\"attributes\":{},\"id\":\"1803\",\"type\":\"BasicTickFormatter\"},{\"attributes\":{},\"id\":\"1808\",\"type\":\"UnionRenderers\"},{\"attributes\":{},\"id\":\"1830\",\"type\":\"UnionRenderers\"}],\"root_ids\":[\"1757\"]},\"title\":\"Bokeh Application\",\"version\":\"2.3.2\"}};\n",
       "  var render_items = [{\"docid\":\"89cd3b29-748a-40ea-b462-6e3e90e6d195\",\"root_ids\":[\"1757\"],\"roots\":{\"1757\":\"5f890189-aae4-477b-949d-ad9fa8a62533\"}}];\n",
       "  root.Bokeh.embed.embed_items_notebook(docs_json, render_items);\n",
       "\n",
       "  }\n",
       "  if (root.Bokeh !== undefined) {\n",
       "    embed_document(root);\n",
       "  } else {\n",
       "    var attempts = 0;\n",
       "    var timer = setInterval(function(root) {\n",
       "      if (root.Bokeh !== undefined) {\n",
       "        clearInterval(timer);\n",
       "        embed_document(root);\n",
       "      } else {\n",
       "        attempts++;\n",
       "        if (attempts > 100) {\n",
       "          clearInterval(timer);\n",
       "          console.log(\"Bokeh: ERROR: Unable to run BokehJS code because BokehJS library is missing\");\n",
       "        }\n",
       "      }\n",
       "    }, 10, root)\n",
       "  }\n",
       "})(window);"
      ],
      "application/vnd.bokehjs_exec.v0+json": ""
     },
     "metadata": {
      "application/vnd.bokehjs_exec.v0+json": {
       "id": "1757"
      }
     },
     "output_type": "display_data"
    },
    {
     "data": {
      "text/html": [
       "\n",
       "\n",
       "\n",
       "\n",
       "\n",
       "\n",
       "  <div class=\"bk-root\" id=\"86f59df0-7795-4ce9-b3e7-79972312a734\" data-root-id=\"1983\"></div>\n"
      ]
     },
     "metadata": {},
     "output_type": "display_data"
    },
    {
     "data": {
      "application/javascript": [
       "(function(root) {\n",
       "  function embed_document(root) {\n",
       "    \n",
       "  var docs_json = {\"e7be9f0e-cc88-4072-b3d2-9209db0f32c3\":{\"defs\":[],\"roots\":{\"references\":[{\"attributes\":{\"below\":[{\"id\":\"1994\"}],\"center\":[{\"id\":\"1997\"},{\"id\":\"2001\"},{\"id\":\"2036\"}],\"extra_y_ranges\":{\"time\":{\"id\":\"2017\"}},\"height\":400,\"left\":[{\"id\":\"1998\"}],\"renderers\":[{\"id\":\"2021\"},{\"id\":\"2041\"}],\"right\":[{\"id\":\"2016\"}],\"title\":{\"id\":\"1984\"},\"toolbar\":{\"id\":\"2009\"},\"width\":800,\"x_range\":{\"id\":\"1986\"},\"x_scale\":{\"id\":\"1990\"},\"y_range\":{\"id\":\"1988\"},\"y_scale\":{\"id\":\"1992\"}},\"id\":\"1983\",\"subtype\":\"Figure\",\"type\":\"Plot\"},{\"attributes\":{},\"id\":\"2028\",\"type\":\"BasicTicker\"},{\"attributes\":{},\"id\":\"2055\",\"type\":\"Selection\"},{\"attributes\":{},\"id\":\"2007\",\"type\":\"HelpTool\"},{\"attributes\":{},\"id\":\"2029\",\"type\":\"BasicTickFormatter\"},{\"attributes\":{},\"id\":\"2056\",\"type\":\"UnionRenderers\"},{\"attributes\":{\"text\":\"Beam size: 1, no LM, L1\"},\"id\":\"1984\",\"type\":\"Title\"},{\"attributes\":{\"data_source\":{\"id\":\"2018\"},\"glyph\":{\"id\":\"2019\"},\"hover_glyph\":null,\"muted_glyph\":null,\"nonselection_glyph\":{\"id\":\"2020\"},\"view\":{\"id\":\"2022\"}},\"id\":\"2021\",\"type\":\"GlyphRenderer\"},{\"attributes\":{\"line_alpha\":0.1,\"line_color\":\"red\",\"line_width\":2,\"x\":{\"field\":\"x\"},\"y\":{\"field\":\"y\"}},\"id\":\"2020\",\"type\":\"Line\"},{\"attributes\":{},\"id\":\"2030\",\"type\":\"AllLabels\"},{\"attributes\":{\"items\":[{\"id\":\"2037\"},{\"id\":\"2058\"}]},\"id\":\"2036\",\"type\":\"Legend\"},{\"attributes\":{\"axis_label\":\"Time (sec)\",\"formatter\":{\"id\":\"2029\"},\"major_label_policy\":{\"id\":\"2027\"},\"ticker\":{\"id\":\"2028\"},\"y_range_name\":\"time\"},\"id\":\"2016\",\"type\":\"LinearAxis\"},{\"attributes\":{},\"id\":\"1986\",\"type\":\"DataRange1d\"},{\"attributes\":{\"line_color\":\"#1f77b4\",\"line_width\":2,\"x\":{\"field\":\"x\"},\"y\":{\"field\":\"y\"}},\"id\":\"2039\",\"type\":\"Line\"},{\"attributes\":{\"data\":{\"x\":[0.0,0.1,0.2,0.3,0.4,0.5,0.6,0.7,0.8,0.9],\"y\":[0.04456405964698722,0.04446895922093731,0.04732197200243457,0.052495435179549604,0.06430690809494827,0.09306527693244065,0.14689211807668898,0.2505515824710895,0.6199786975045648,0.8607919963481436]},\"selected\":{\"id\":\"2033\"},\"selection_policy\":{\"id\":\"2034\"}},\"id\":\"2018\",\"type\":\"ColumnDataSource\"},{\"attributes\":{},\"id\":\"2024\",\"type\":\"AllLabels\"},{\"attributes\":{},\"id\":\"2032\",\"type\":\"BasicTickFormatter\"},{\"attributes\":{\"line_color\":\"red\",\"line_width\":2,\"x\":{\"field\":\"x\"},\"y\":{\"field\":\"y\"}},\"id\":\"2019\",\"type\":\"Line\"},{\"attributes\":{\"source\":{\"id\":\"2018\"}},\"id\":\"2022\",\"type\":\"CDSView\"},{\"attributes\":{\"end\":0.5},\"id\":\"1988\",\"type\":\"Range1d\"},{\"attributes\":{\"label\":{\"value\":\"Time\"},\"renderers\":[{\"id\":\"2041\"}]},\"id\":\"2058\",\"type\":\"LegendItem\"},{\"attributes\":{},\"id\":\"1995\",\"type\":\"BasicTicker\"},{\"attributes\":{},\"id\":\"2033\",\"type\":\"Selection\"},{\"attributes\":{\"axis_label\":\"Ratio of retained heads\",\"formatter\":{\"id\":\"2026\"},\"major_label_policy\":{\"id\":\"2024\"},\"ticker\":{\"id\":\"1995\"}},\"id\":\"1994\",\"type\":\"LinearAxis\"},{\"attributes\":{\"bottom_units\":\"screen\",\"fill_alpha\":0.5,\"fill_color\":\"lightgrey\",\"left_units\":\"screen\",\"level\":\"overlay\",\"line_alpha\":1.0,\"line_color\":\"black\",\"line_dash\":[4,4],\"line_width\":2,\"right_units\":\"screen\",\"syncable\":false,\"top_units\":\"screen\"},\"id\":\"2008\",\"type\":\"BoxAnnotation\"},{\"attributes\":{\"label\":{\"value\":\"WER\"},\"renderers\":[{\"id\":\"2021\"}]},\"id\":\"2037\",\"type\":\"LegendItem\"},{\"attributes\":{},\"id\":\"1992\",\"type\":\"LinearScale\"},{\"attributes\":{},\"id\":\"2026\",\"type\":\"BasicTickFormatter\"},{\"attributes\":{\"source\":{\"id\":\"2038\"}},\"id\":\"2042\",\"type\":\"CDSView\"},{\"attributes\":{\"end\":100},\"id\":\"2017\",\"type\":\"Range1d\"},{\"attributes\":{\"data\":{\"x\":[0.0,0.1,0.2,0.3,0.4,0.5,0.6,0.7,0.8,0.9],\"y\":[21.681570053100586,20.974687576293945,19.74081039428711,17.510927200317383,17.081056594848633,17.590673446655273,15.915518760681152,17.284034729003906,9.869168281555176,9.287040710449219]},\"selected\":{\"id\":\"2055\"},\"selection_policy\":{\"id\":\"2056\"}},\"id\":\"2038\",\"type\":\"ColumnDataSource\"},{\"attributes\":{},\"id\":\"1990\",\"type\":\"LinearScale\"},{\"attributes\":{},\"id\":\"2034\",\"type\":\"UnionRenderers\"},{\"attributes\":{\"axis\":{\"id\":\"1994\"},\"ticker\":null},\"id\":\"1997\",\"type\":\"Grid\"},{\"attributes\":{\"active_multi\":null,\"tools\":[{\"id\":\"2002\"},{\"id\":\"2003\"},{\"id\":\"2004\"},{\"id\":\"2005\"},{\"id\":\"2006\"},{\"id\":\"2007\"}]},\"id\":\"2009\",\"type\":\"Toolbar\"},{\"attributes\":{\"data_source\":{\"id\":\"2038\"},\"glyph\":{\"id\":\"2039\"},\"hover_glyph\":null,\"muted_glyph\":null,\"nonselection_glyph\":{\"id\":\"2040\"},\"view\":{\"id\":\"2042\"},\"y_range_name\":\"time\"},\"id\":\"2041\",\"type\":\"GlyphRenderer\"},{\"attributes\":{\"line_alpha\":0.1,\"line_color\":\"#1f77b4\",\"line_width\":2,\"x\":{\"field\":\"x\"},\"y\":{\"field\":\"y\"}},\"id\":\"2040\",\"type\":\"Line\"},{\"attributes\":{},\"id\":\"2003\",\"type\":\"WheelZoomTool\"},{\"attributes\":{\"axis_label\":\"WER\",\"formatter\":{\"id\":\"2032\"},\"major_label_policy\":{\"id\":\"2030\"},\"ticker\":{\"id\":\"1999\"}},\"id\":\"1998\",\"type\":\"LinearAxis\"},{\"attributes\":{\"axis\":{\"id\":\"1998\"},\"dimension\":1,\"ticker\":null},\"id\":\"2001\",\"type\":\"Grid\"},{\"attributes\":{},\"id\":\"1999\",\"type\":\"BasicTicker\"},{\"attributes\":{},\"id\":\"2005\",\"type\":\"SaveTool\"},{\"attributes\":{},\"id\":\"2027\",\"type\":\"AllLabels\"},{\"attributes\":{},\"id\":\"2006\",\"type\":\"ResetTool\"},{\"attributes\":{},\"id\":\"2002\",\"type\":\"PanTool\"},{\"attributes\":{\"overlay\":{\"id\":\"2008\"}},\"id\":\"2004\",\"type\":\"BoxZoomTool\"}],\"root_ids\":[\"1983\"]},\"title\":\"Bokeh Application\",\"version\":\"2.3.2\"}};\n",
       "  var render_items = [{\"docid\":\"e7be9f0e-cc88-4072-b3d2-9209db0f32c3\",\"root_ids\":[\"1983\"],\"roots\":{\"1983\":\"86f59df0-7795-4ce9-b3e7-79972312a734\"}}];\n",
       "  root.Bokeh.embed.embed_items_notebook(docs_json, render_items);\n",
       "\n",
       "  }\n",
       "  if (root.Bokeh !== undefined) {\n",
       "    embed_document(root);\n",
       "  } else {\n",
       "    var attempts = 0;\n",
       "    var timer = setInterval(function(root) {\n",
       "      if (root.Bokeh !== undefined) {\n",
       "        clearInterval(timer);\n",
       "        embed_document(root);\n",
       "      } else {\n",
       "        attempts++;\n",
       "        if (attempts > 100) {\n",
       "          clearInterval(timer);\n",
       "          console.log(\"Bokeh: ERROR: Unable to run BokehJS code because BokehJS library is missing\");\n",
       "        }\n",
       "      }\n",
       "    }, 10, root)\n",
       "  }\n",
       "})(window);"
      ],
      "application/vnd.bokehjs_exec.v0+json": ""
     },
     "metadata": {
      "application/vnd.bokehjs_exec.v0+json": {
       "id": "1983"
      }
     },
     "output_type": "display_data"
    },
    {
     "data": {
      "text/html": [
       "\n",
       "\n",
       "\n",
       "\n",
       "\n",
       "\n",
       "  <div class=\"bk-root\" id=\"99362f56-0157-47d7-8857-87d494da5015\" data-root-id=\"2224\"></div>\n"
      ]
     },
     "metadata": {},
     "output_type": "display_data"
    },
    {
     "data": {
      "application/javascript": [
       "(function(root) {\n",
       "  function embed_document(root) {\n",
       "    \n",
       "  var docs_json = {\"348d30bd-0fe1-4533-a8e7-802be354e217\":{\"defs\":[],\"roots\":{\"references\":[{\"attributes\":{\"below\":[{\"id\":\"2235\"}],\"center\":[{\"id\":\"2238\"},{\"id\":\"2242\"},{\"id\":\"2277\"}],\"extra_y_ranges\":{\"time\":{\"id\":\"2258\"}},\"height\":400,\"left\":[{\"id\":\"2239\"}],\"renderers\":[{\"id\":\"2262\"},{\"id\":\"2282\"}],\"right\":[{\"id\":\"2257\"}],\"title\":{\"id\":\"2225\"},\"toolbar\":{\"id\":\"2250\"},\"width\":800,\"x_range\":{\"id\":\"2227\"},\"x_scale\":{\"id\":\"2231\"},\"y_range\":{\"id\":\"2229\"},\"y_scale\":{\"id\":\"2233\"}},\"id\":\"2224\",\"subtype\":\"Figure\",\"type\":\"Plot\"},{\"attributes\":{},\"id\":\"2248\",\"type\":\"HelpTool\"},{\"attributes\":{},\"id\":\"2275\",\"type\":\"UnionRenderers\"},{\"attributes\":{},\"id\":\"2243\",\"type\":\"PanTool\"},{\"attributes\":{\"source\":{\"id\":\"2259\"}},\"id\":\"2263\",\"type\":\"CDSView\"},{\"attributes\":{\"data_source\":{\"id\":\"2279\"},\"glyph\":{\"id\":\"2280\"},\"hover_glyph\":null,\"muted_glyph\":null,\"nonselection_glyph\":{\"id\":\"2281\"},\"view\":{\"id\":\"2283\"},\"y_range_name\":\"time\"},\"id\":\"2282\",\"type\":\"GlyphRenderer\"},{\"attributes\":{},\"id\":\"2240\",\"type\":\"BasicTicker\"},{\"attributes\":{\"overlay\":{\"id\":\"2249\"}},\"id\":\"2245\",\"type\":\"BoxZoomTool\"},{\"attributes\":{\"line_alpha\":0.1,\"line_color\":\"#1f77b4\",\"line_width\":2,\"x\":{\"field\":\"x\"},\"y\":{\"field\":\"y\"}},\"id\":\"2281\",\"type\":\"Line\"},{\"attributes\":{},\"id\":\"2246\",\"type\":\"SaveTool\"},{\"attributes\":{},\"id\":\"2247\",\"type\":\"ResetTool\"},{\"attributes\":{\"line_color\":\"red\",\"line_width\":2,\"x\":{\"field\":\"x\"},\"y\":{\"field\":\"y\"}},\"id\":\"2260\",\"type\":\"Line\"},{\"attributes\":{\"data\":{\"x\":[0.0,0.1,0.2,0.3,0.4,0.5,0.6,0.7,0.8,0.9],\"y\":[0.05030274802049371,0.21055045871559633,0.35036144578313255,0.5752935171005615,0.7029603612644255,0.8498765432098765,0.8890015205271161,0.890748031496063,0.8949554896142433,0.9015369836695485]},\"selected\":{\"id\":\"2274\"},\"selection_policy\":{\"id\":\"2275\"}},\"id\":\"2259\",\"type\":\"ColumnDataSource\"},{\"attributes\":{\"text\":\"Beam size: 1, no LM, layer-by-layer\"},\"id\":\"2225\",\"type\":\"Title\"},{\"attributes\":{},\"id\":\"2271\",\"type\":\"AllLabels\"},{\"attributes\":{\"label\":{\"value\":\"WER\"},\"renderers\":[{\"id\":\"2262\"}]},\"id\":\"2278\",\"type\":\"LegendItem\"},{\"attributes\":{\"data_source\":{\"id\":\"2259\"},\"glyph\":{\"id\":\"2260\"},\"hover_glyph\":null,\"muted_glyph\":null,\"nonselection_glyph\":{\"id\":\"2261\"},\"view\":{\"id\":\"2263\"}},\"id\":\"2262\",\"type\":\"GlyphRenderer\"},{\"attributes\":{\"line_alpha\":0.1,\"line_color\":\"red\",\"line_width\":2,\"x\":{\"field\":\"x\"},\"y\":{\"field\":\"y\"}},\"id\":\"2261\",\"type\":\"Line\"},{\"attributes\":{},\"id\":\"2227\",\"type\":\"DataRange1d\"},{\"attributes\":{},\"id\":\"2296\",\"type\":\"Selection\"},{\"attributes\":{\"axis_label\":\"Time (sec)\",\"formatter\":{\"id\":\"2270\"},\"major_label_policy\":{\"id\":\"2268\"},\"ticker\":{\"id\":\"2269\"},\"y_range_name\":\"time\"},\"id\":\"2257\",\"type\":\"LinearAxis\"},{\"attributes\":{\"items\":[{\"id\":\"2278\"},{\"id\":\"2299\"}]},\"id\":\"2277\",\"type\":\"Legend\"},{\"attributes\":{},\"id\":\"2273\",\"type\":\"BasicTickFormatter\"},{\"attributes\":{},\"id\":\"2297\",\"type\":\"UnionRenderers\"},{\"attributes\":{},\"id\":\"2265\",\"type\":\"AllLabels\"},{\"attributes\":{\"active_multi\":null,\"tools\":[{\"id\":\"2243\"},{\"id\":\"2244\"},{\"id\":\"2245\"},{\"id\":\"2246\"},{\"id\":\"2247\"},{\"id\":\"2248\"}]},\"id\":\"2250\",\"type\":\"Toolbar\"},{\"attributes\":{},\"id\":\"2267\",\"type\":\"BasicTickFormatter\"},{\"attributes\":{\"end\":0.5},\"id\":\"2229\",\"type\":\"Range1d\"},{\"attributes\":{\"bottom_units\":\"screen\",\"fill_alpha\":0.5,\"fill_color\":\"lightgrey\",\"left_units\":\"screen\",\"level\":\"overlay\",\"line_alpha\":1.0,\"line_color\":\"black\",\"line_dash\":[4,4],\"line_width\":2,\"right_units\":\"screen\",\"syncable\":false,\"top_units\":\"screen\"},\"id\":\"2249\",\"type\":\"BoxAnnotation\"},{\"attributes\":{},\"id\":\"2236\",\"type\":\"BasicTicker\"},{\"attributes\":{\"axis_label\":\"Ratio of retained heads\",\"formatter\":{\"id\":\"2267\"},\"major_label_policy\":{\"id\":\"2265\"},\"ticker\":{\"id\":\"2236\"}},\"id\":\"2235\",\"type\":\"LinearAxis\"},{\"attributes\":{},\"id\":\"2233\",\"type\":\"LinearScale\"},{\"attributes\":{\"end\":100},\"id\":\"2258\",\"type\":\"Range1d\"},{\"attributes\":{\"axis\":{\"id\":\"2235\"},\"ticker\":null},\"id\":\"2238\",\"type\":\"Grid\"},{\"attributes\":{\"line_color\":\"#1f77b4\",\"line_width\":2,\"x\":{\"field\":\"x\"},\"y\":{\"field\":\"y\"}},\"id\":\"2280\",\"type\":\"Line\"},{\"attributes\":{},\"id\":\"2231\",\"type\":\"LinearScale\"},{\"attributes\":{},\"id\":\"2268\",\"type\":\"AllLabels\"},{\"attributes\":{},\"id\":\"2244\",\"type\":\"WheelZoomTool\"},{\"attributes\":{},\"id\":\"2270\",\"type\":\"BasicTickFormatter\"},{\"attributes\":{\"label\":{\"value\":\"Time\"},\"renderers\":[{\"id\":\"2282\"}]},\"id\":\"2299\",\"type\":\"LegendItem\"},{\"attributes\":{},\"id\":\"2274\",\"type\":\"Selection\"},{\"attributes\":{\"axis_label\":\"WER\",\"formatter\":{\"id\":\"2273\"},\"major_label_policy\":{\"id\":\"2271\"},\"ticker\":{\"id\":\"2240\"}},\"id\":\"2239\",\"type\":\"LinearAxis\"},{\"attributes\":{\"axis\":{\"id\":\"2239\"},\"dimension\":1,\"ticker\":null},\"id\":\"2242\",\"type\":\"Grid\"},{\"attributes\":{},\"id\":\"2269\",\"type\":\"BasicTicker\"},{\"attributes\":{\"source\":{\"id\":\"2279\"}},\"id\":\"2283\",\"type\":\"CDSView\"},{\"attributes\":{\"data\":{\"x\":[0.0,0.1,0.2,0.3,0.4,0.5,0.6,0.7,0.8,0.9],\"y\":[20.292512893676758,21.21649169921875,19.498455047607422,15.736644744873047,13.525660514831543,11.547018051147461,10.438002586364746,11.876256942749023,9.106951713562012,11.318511962890625]},\"selected\":{\"id\":\"2296\"},\"selection_policy\":{\"id\":\"2297\"}},\"id\":\"2279\",\"type\":\"ColumnDataSource\"}],\"root_ids\":[\"2224\"]},\"title\":\"Bokeh Application\",\"version\":\"2.3.2\"}};\n",
       "  var render_items = [{\"docid\":\"348d30bd-0fe1-4533-a8e7-802be354e217\",\"root_ids\":[\"2224\"],\"roots\":{\"2224\":\"99362f56-0157-47d7-8857-87d494da5015\"}}];\n",
       "  root.Bokeh.embed.embed_items_notebook(docs_json, render_items);\n",
       "\n",
       "  }\n",
       "  if (root.Bokeh !== undefined) {\n",
       "    embed_document(root);\n",
       "  } else {\n",
       "    var attempts = 0;\n",
       "    var timer = setInterval(function(root) {\n",
       "      if (root.Bokeh !== undefined) {\n",
       "        clearInterval(timer);\n",
       "        embed_document(root);\n",
       "      } else {\n",
       "        attempts++;\n",
       "        if (attempts > 100) {\n",
       "          clearInterval(timer);\n",
       "          console.log(\"Bokeh: ERROR: Unable to run BokehJS code because BokehJS library is missing\");\n",
       "        }\n",
       "      }\n",
       "    }, 10, root)\n",
       "  }\n",
       "})(window);"
      ],
      "application/vnd.bokehjs_exec.v0+json": ""
     },
     "metadata": {
      "application/vnd.bokehjs_exec.v0+json": {
       "id": "2224"
      }
     },
     "output_type": "display_data"
    }
   ],
   "source": [
    "# beam_size=5\n",
    "perfs = [\n",
    "    0.032, 0.032, 0.035, 0.038, 0.046, 0.062, 0.103, 0.165, 0.598, 0.884\n",
    "]\n",
    "times = [\n",
    "    91.31, 90.66, 90.66, 94.36, 87.88, 78.45, 78.87, 79.71, 74.91, 56.98, 28.19\n",
    "]\n",
    "plot_head_pruning(perfs, times, title='Beam size: 5')\n",
    "\n",
    "# beam_size=3\n",
    "perfs = [\n",
    "    0.03408399269628728, 0.034388314059646985, 0.03638542300669507, 0.040227480219111385, 0.04842513694461351, 0.06516281192939745, 0.10649345709068776, 0.17121880706025563, 0.5995701460742544, 0.8795458003651856\n",
    "]\n",
    "times = [\n",
    "    69.9738, 69.5449, 67.6510, 60.0101, 61.1342, 62.1088, 59.7755, 62.6023, 36.6256, 27.8764\n",
    "]\n",
    "plot_head_pruning(perfs, times, title='Beam size: 3')\n",
    "\n",
    "\n",
    "# beam_size=1\n",
    "perfs = [\n",
    "    0.046351947656725505, 0.045096622032866705, 0.047150791235544734, 0.05137325015216068, 0.06480143031040779, 0.08627510651247718, 0.14246043822276325, 0.21918746195982958, 0.6591410529519173, 0.8765025867315885\n",
    "]\n",
    "times = [\n",
    "    44.4279, 44.8921, 43.1760, 38.7973, 39.5165, 40.1261, 37.5563, 39.2884, 21.2038, 16.1966\n",
    "]\n",
    "plot_head_pruning(perfs, times, title='Beam size: 1')\n",
    "\n",
    "\n",
    "# beam_size=1, lm_weight=0\n",
    "perfs = [\n",
    "    0.04456405964698722, 0.04481132075471698, 0.046998630553864884, 0.05243837492391966, 0.06383140596469872, 0.08882379793061473, 0.15029671332927572, 0.23767498478393184, 0.6199786975045648, 0.8607919963481436\n",
    "]\n",
    "times = [\n",
    "    21.681570053100586, 20.974687576293945, 19.74081039428711, 17.510927200317383, 17.081056594848633, 17.590673446655273, 15.915518760681152, 17.284034729003906, 9.869168281555176, 9.287040710449219\n",
    "]\n",
    "plot_head_pruning(perfs, times, title='Beam size: 1, no LM')\n",
    "\n",
    "\n",
    "perfs = [\n",
    "    0.04456405964698722, 0.04465916007303713, 0.04549604382227632, 0.04762629336579428, 0.054245283018867926, 0.07788724893487523, 0.1262363055386488, 0.34211427267194155, 0.6326650943396226, 0.8607919963481436\n",
    "]\n",
    "times = [\n",
    "    20.26384735107422, 21.20014190673828, 19.76799774169922, 17.644161224365234, 17.260480880737305, 18.03213119506836, 16.215112686157227, 15.384403228759766, 9.348855972290039, 9.18283748626709\n",
    "]\n",
    "plot_head_pruning(perfs, times, title='Beam size: 1, no LM, None')\n",
    "\n",
    "# L1 \n",
    "perfs = [\n",
    "    0.04456405964698722, 0.04446895922093731, 0.04732197200243457, 0.052495435179549604, 0.06430690809494827, 0.09306527693244065, 0.14689211807668898, 0.2505515824710895, 0.6199786975045648, 0.8607919963481436\n",
    "]\n",
    "times = [\n",
    "    21.681570053100586, 20.974687576293945, 19.74081039428711, 17.510927200317383, 17.081056594848633, 17.590673446655273, 15.915518760681152, 17.284034729003906, 9.869168281555176, 9.287040710449219\n",
    "]\n",
    "plot_head_pruning(perfs, times, title='Beam size: 1, no LM, L1')\n",
    "\n",
    "# prune layer-by-layer\n",
    "times = [\n",
    "    20.292512893676758, 21.21649169921875, 19.498455047607422, 15.736644744873047, 13.525660514831543, 11.547018051147461, 10.438002586364746, 11.876256942749023, 9.106951713562012, 11.318511962890625\n",
    "]\n",
    "perfs = [\n",
    "    0.05030274802049371, 0.21055045871559633, 0.35036144578313255, 0.5752935171005615, 0.7029603612644255, 0.8498765432098765, 0.8890015205271161, 0.890748031496063, 0.8949554896142433, 0.9015369836695485\n",
    "] # 100 samples only\n",
    "plot_head_pruning(perfs, times, title='Beam size: 1, no LM, layer-by-layer')\n"
   ]
  },
  {
   "cell_type": "code",
   "execution_count": 16,
   "id": "43ad902f",
   "metadata": {},
   "outputs": [
    {
     "name": "stderr",
     "output_type": "stream",
     "text": [
      "BokehDeprecationWarning: 'legend' keyword is deprecated, use explicit 'legend_label', 'legend_field', or 'legend_group' keywords instead\n",
      "BokehDeprecationWarning: 'legend' keyword is deprecated, use explicit 'legend_label', 'legend_field', or 'legend_group' keywords instead\n"
     ]
    },
    {
     "data": {
      "text/html": [
       "\n",
       "\n",
       "\n",
       "\n",
       "\n",
       "\n",
       "  <div class=\"bk-root\" id=\"e0132717-8aad-464f-81e9-b6da29d7f0c1\" data-root-id=\"4705\"></div>\n"
      ]
     },
     "metadata": {},
     "output_type": "display_data"
    },
    {
     "data": {
      "application/javascript": [
       "(function(root) {\n",
       "  function embed_document(root) {\n",
       "    \n",
       "  var docs_json = {\"80adbf71-6bbc-4df0-95ac-e9f6fb121c51\":{\"defs\":[],\"roots\":{\"references\":[{\"attributes\":{\"below\":[{\"id\":\"4714\"}],\"center\":[{\"id\":\"4717\"},{\"id\":\"4721\"},{\"id\":\"4752\"}],\"left\":[{\"id\":\"4718\"}],\"renderers\":[{\"id\":\"4739\"},{\"id\":\"4757\"}],\"title\":{\"id\":\"4741\"},\"toolbar\":{\"id\":\"4729\"},\"x_range\":{\"id\":\"4706\"},\"x_scale\":{\"id\":\"4710\"},\"y_range\":{\"id\":\"4708\"},\"y_scale\":{\"id\":\"4712\"}},\"id\":\"4705\",\"subtype\":\"Figure\",\"type\":\"Plot\"},{\"attributes\":{},\"id\":\"4723\",\"type\":\"WheelZoomTool\"},{\"attributes\":{\"items\":[{\"id\":\"4753\"},{\"id\":\"4772\"}]},\"id\":\"4752\",\"type\":\"Legend\"},{\"attributes\":{\"line_alpha\":0.1,\"line_color\":\"blue\",\"line_width\":2,\"x\":{\"field\":\"x\"},\"y\":{\"field\":\"y\"}},\"id\":\"4738\",\"type\":\"Line\"},{\"attributes\":{},\"id\":\"4725\",\"type\":\"SaveTool\"},{\"attributes\":{},\"id\":\"4741\",\"type\":\"Title\"},{\"attributes\":{\"label\":{\"value\":\"Prune by Importance\"},\"renderers\":[{\"id\":\"4739\"}]},\"id\":\"4753\",\"type\":\"LegendItem\"},{\"attributes\":{},\"id\":\"4726\",\"type\":\"ResetTool\"},{\"attributes\":{\"data\":{\"x\":[0.0,0.1,0.2,0.3,0.4,0.5,0.6,0.7,0.8,0.9],\"y\":[20.292512893676758,21.21649169921875,19.498455047607422,15.736644744873047,13.525660514831543,11.547018051147461,10.438002586364746,11.876256942749023,9.106951713562012,11.318511962890625]},\"selected\":{\"id\":\"4769\"},\"selection_policy\":{\"id\":\"4770\"}},\"id\":\"4754\",\"type\":\"ColumnDataSource\"},{\"attributes\":{\"active_multi\":null,\"tools\":[{\"id\":\"4722\"},{\"id\":\"4723\"},{\"id\":\"4724\"},{\"id\":\"4725\"},{\"id\":\"4726\"},{\"id\":\"4727\"}]},\"id\":\"4729\",\"type\":\"Toolbar\"},{\"attributes\":{},\"id\":\"4743\",\"type\":\"AllLabels\"},{\"attributes\":{\"source\":{\"id\":\"4736\"}},\"id\":\"4740\",\"type\":\"CDSView\"},{\"attributes\":{\"data_source\":{\"id\":\"4736\"},\"glyph\":{\"id\":\"4737\"},\"hover_glyph\":null,\"muted_glyph\":null,\"nonselection_glyph\":{\"id\":\"4738\"},\"view\":{\"id\":\"4740\"}},\"id\":\"4739\",\"type\":\"GlyphRenderer\"},{\"attributes\":{},\"id\":\"4745\",\"type\":\"BasicTickFormatter\"},{\"attributes\":{\"source\":{\"id\":\"4754\"}},\"id\":\"4758\",\"type\":\"CDSView\"},{\"attributes\":{\"label\":{\"value\":\"Prune by Layer\"},\"renderers\":[{\"id\":\"4757\"}]},\"id\":\"4772\",\"type\":\"LegendItem\"},{\"attributes\":{\"overlay\":{\"id\":\"4728\"}},\"id\":\"4724\",\"type\":\"BoxZoomTool\"},{\"attributes\":{},\"id\":\"4727\",\"type\":\"HelpTool\"},{\"attributes\":{},\"id\":\"4749\",\"type\":\"Selection\"},{\"attributes\":{},\"id\":\"4706\",\"type\":\"DataRange1d\"},{\"attributes\":{\"data_source\":{\"id\":\"4754\"},\"glyph\":{\"id\":\"4755\"},\"hover_glyph\":null,\"muted_glyph\":null,\"nonselection_glyph\":{\"id\":\"4756\"},\"view\":{\"id\":\"4758\"}},\"id\":\"4757\",\"type\":\"GlyphRenderer\"},{\"attributes\":{\"line_color\":\"red\",\"line_width\":2,\"x\":{\"field\":\"x\"},\"y\":{\"field\":\"y\"}},\"id\":\"4755\",\"type\":\"Line\"},{\"attributes\":{},\"id\":\"4722\",\"type\":\"PanTool\"},{\"attributes\":{\"line_alpha\":0.1,\"line_color\":\"red\",\"line_width\":2,\"x\":{\"field\":\"x\"},\"y\":{\"field\":\"y\"}},\"id\":\"4756\",\"type\":\"Line\"},{\"attributes\":{},\"id\":\"4708\",\"type\":\"DataRange1d\"},{\"attributes\":{\"data\":{\"x\":[0.0,0.1,0.2,0.3,0.4,0.5,0.6,0.7,0.8,0.9],\"y\":[21.681570053100586,20.974687576293945,19.74081039428711,17.510927200317383,17.081056594848633,17.590673446655273,15.915518760681152,17.284034729003906,9.869168281555176,9.287040710449219]},\"selected\":{\"id\":\"4749\"},\"selection_policy\":{\"id\":\"4750\"}},\"id\":\"4736\",\"type\":\"ColumnDataSource\"},{\"attributes\":{\"line_color\":\"blue\",\"line_width\":2,\"x\":{\"field\":\"x\"},\"y\":{\"field\":\"y\"}},\"id\":\"4737\",\"type\":\"Line\"},{\"attributes\":{},\"id\":\"4750\",\"type\":\"UnionRenderers\"},{\"attributes\":{},\"id\":\"4710\",\"type\":\"LinearScale\"},{\"attributes\":{\"axis_label\":\"Ratio of pruned heads\",\"formatter\":{\"id\":\"4745\"},\"major_label_policy\":{\"id\":\"4743\"},\"ticker\":{\"id\":\"4715\"}},\"id\":\"4714\",\"type\":\"LinearAxis\"},{\"attributes\":{\"axis_label\":\"Latency\",\"formatter\":{\"id\":\"4748\"},\"major_label_policy\":{\"id\":\"4746\"},\"ticker\":{\"id\":\"4719\"}},\"id\":\"4718\",\"type\":\"LinearAxis\"},{\"attributes\":{\"bottom_units\":\"screen\",\"fill_alpha\":0.5,\"fill_color\":\"lightgrey\",\"left_units\":\"screen\",\"level\":\"overlay\",\"line_alpha\":1.0,\"line_color\":\"black\",\"line_dash\":[4,4],\"line_width\":2,\"right_units\":\"screen\",\"syncable\":false,\"top_units\":\"screen\"},\"id\":\"4728\",\"type\":\"BoxAnnotation\"},{\"attributes\":{},\"id\":\"4769\",\"type\":\"Selection\"},{\"attributes\":{},\"id\":\"4746\",\"type\":\"AllLabels\"},{\"attributes\":{\"axis\":{\"id\":\"4718\"},\"dimension\":1,\"ticker\":null},\"id\":\"4721\",\"type\":\"Grid\"},{\"attributes\":{},\"id\":\"4770\",\"type\":\"UnionRenderers\"},{\"attributes\":{\"axis\":{\"id\":\"4714\"},\"ticker\":null},\"id\":\"4717\",\"type\":\"Grid\"},{\"attributes\":{},\"id\":\"4748\",\"type\":\"BasicTickFormatter\"},{\"attributes\":{},\"id\":\"4715\",\"type\":\"BasicTicker\"},{\"attributes\":{},\"id\":\"4719\",\"type\":\"BasicTicker\"},{\"attributes\":{},\"id\":\"4712\",\"type\":\"LinearScale\"}],\"root_ids\":[\"4705\"]},\"title\":\"Bokeh Application\",\"version\":\"2.3.2\"}};\n",
       "  var render_items = [{\"docid\":\"80adbf71-6bbc-4df0-95ac-e9f6fb121c51\",\"root_ids\":[\"4705\"],\"roots\":{\"4705\":\"e0132717-8aad-464f-81e9-b6da29d7f0c1\"}}];\n",
       "  root.Bokeh.embed.embed_items_notebook(docs_json, render_items);\n",
       "\n",
       "  }\n",
       "  if (root.Bokeh !== undefined) {\n",
       "    embed_document(root);\n",
       "  } else {\n",
       "    var attempts = 0;\n",
       "    var timer = setInterval(function(root) {\n",
       "      if (root.Bokeh !== undefined) {\n",
       "        clearInterval(timer);\n",
       "        embed_document(root);\n",
       "      } else {\n",
       "        attempts++;\n",
       "        if (attempts > 100) {\n",
       "          clearInterval(timer);\n",
       "          console.log(\"Bokeh: ERROR: Unable to run BokehJS code because BokehJS library is missing\");\n",
       "        }\n",
       "      }\n",
       "    }, 10, root)\n",
       "  }\n",
       "})(window);"
      ],
      "application/vnd.bokehjs_exec.v0+json": ""
     },
     "metadata": {
      "application/vnd.bokehjs_exec.v0+json": {
       "id": "4705"
      }
     },
     "output_type": "display_data"
    }
   ],
   "source": [
    "times1 = [\n",
    "    21.681570053100586, 20.974687576293945, 19.74081039428711, 17.510927200317383, 17.081056594848633, 17.590673446655273, 15.915518760681152, 17.284034729003906, 9.869168281555176, 9.287040710449219\n",
    "]\n",
    "times2 = [\n",
    "    20.292512893676758, 21.21649169921875, 19.498455047607422, 15.736644744873047, 13.525660514831543, 11.547018051147461, 10.438002586364746, 11.876256942749023, 9.106951713562012, 11.318511962890625\n",
    "]\n",
    "\n",
    "plot = figure(\n",
    "    x_axis_label='Ratio of pruned heads',\n",
    "    y_axis_label='Latency',\n",
    ")\n",
    "xs = [i/10 for i in range(10)]\n",
    "plot.line(xs, times1, color='blue', line_width=2, legend='Prune by Importance')\n",
    "plot.line(xs, times2, color='red', line_width=2, legend='Prune by Layer')\n",
    "show(plot)"
   ]
  },
  {
   "cell_type": "code",
   "execution_count": 19,
   "id": "0428f538",
   "metadata": {},
   "outputs": [
    {
     "name": "stderr",
     "output_type": "stream",
     "text": [
      "BokehDeprecationWarning: 'legend' keyword is deprecated, use explicit 'legend_label', 'legend_field', or 'legend_group' keywords instead\n",
      "BokehDeprecationWarning: 'legend' keyword is deprecated, use explicit 'legend_label', 'legend_field', or 'legend_group' keywords instead\n"
     ]
    },
    {
     "data": {
      "text/html": [
       "\n",
       "\n",
       "\n",
       "\n",
       "\n",
       "\n",
       "  <div class=\"bk-root\" id=\"db0d3d03-efe4-47de-8b84-340bb62ad5bb\" data-root-id=\"5744\"></div>\n"
      ]
     },
     "metadata": {},
     "output_type": "display_data"
    },
    {
     "data": {
      "application/javascript": [
       "(function(root) {\n",
       "  function embed_document(root) {\n",
       "    \n",
       "  var docs_json = {\"537cb704-39b5-4bcb-80ce-00131e456046\":{\"defs\":[],\"roots\":{\"references\":[{\"attributes\":{\"below\":[{\"id\":\"5753\"}],\"center\":[{\"id\":\"5756\"},{\"id\":\"5760\"},{\"id\":\"5791\"}],\"left\":[{\"id\":\"5757\"}],\"renderers\":[{\"id\":\"5778\"},{\"id\":\"5796\"}],\"title\":{\"id\":\"5780\"},\"toolbar\":{\"id\":\"5768\"},\"x_range\":{\"id\":\"5745\"},\"x_scale\":{\"id\":\"5749\"},\"y_range\":{\"id\":\"5747\"},\"y_scale\":{\"id\":\"5751\"}},\"id\":\"5744\",\"subtype\":\"Figure\",\"type\":\"Plot\"},{\"attributes\":{},\"id\":\"5808\",\"type\":\"Selection\"},{\"attributes\":{},\"id\":\"5745\",\"type\":\"DataRange1d\"},{\"attributes\":{\"axis\":{\"id\":\"5753\"},\"ticker\":null},\"id\":\"5756\",\"type\":\"Grid\"},{\"attributes\":{},\"id\":\"5749\",\"type\":\"LinearScale\"},{\"attributes\":{},\"id\":\"5809\",\"type\":\"UnionRenderers\"},{\"attributes\":{\"line_alpha\":0.1,\"line_color\":\"blue\",\"line_width\":2,\"x\":{\"field\":\"x\"},\"y\":{\"field\":\"y\"}},\"id\":\"5777\",\"type\":\"Line\"},{\"attributes\":{\"bottom_units\":\"screen\",\"fill_alpha\":0.5,\"fill_color\":\"lightgrey\",\"left_units\":\"screen\",\"level\":\"overlay\",\"line_alpha\":1.0,\"line_color\":\"black\",\"line_dash\":[4,4],\"line_width\":2,\"right_units\":\"screen\",\"syncable\":false,\"top_units\":\"screen\"},\"id\":\"5767\",\"type\":\"BoxAnnotation\"},{\"attributes\":{\"data\":{\"x\":[0.0,0.1,0.2,0.3,0.4,0.5,0.6,0.7,0.8,0.9],\"y\":[0.04456405964698722,0.04481132075471698,0.046998630553864884,0.05243837492391966,0.06383140596469872,0.08882379793061473,0.15029671332927572,0.23767498478393184,0.6199786975045648,0.8607919963481436]},\"selected\":{\"id\":\"5788\"},\"selection_policy\":{\"id\":\"5789\"}},\"id\":\"5775\",\"type\":\"ColumnDataSource\"},{\"attributes\":{\"label\":{\"value\":\"Prune by Importance\"},\"renderers\":[{\"id\":\"5778\"}]},\"id\":\"5792\",\"type\":\"LegendItem\"},{\"attributes\":{},\"id\":\"5785\",\"type\":\"AllLabels\"},{\"attributes\":{},\"id\":\"5789\",\"type\":\"UnionRenderers\"},{\"attributes\":{},\"id\":\"5764\",\"type\":\"SaveTool\"},{\"attributes\":{\"line_color\":\"red\",\"line_width\":2,\"x\":{\"field\":\"x\"},\"y\":{\"field\":\"y\"}},\"id\":\"5794\",\"type\":\"Line\"},{\"attributes\":{\"overlay\":{\"id\":\"5767\"}},\"id\":\"5763\",\"type\":\"BoxZoomTool\"},{\"attributes\":{},\"id\":\"5761\",\"type\":\"PanTool\"},{\"attributes\":{\"axis_label\":\"WER\",\"formatter\":{\"id\":\"5787\"},\"major_label_policy\":{\"id\":\"5785\"},\"ticker\":{\"id\":\"5758\"}},\"id\":\"5757\",\"type\":\"LinearAxis\"},{\"attributes\":{},\"id\":\"5787\",\"type\":\"BasicTickFormatter\"},{\"attributes\":{\"data_source\":{\"id\":\"5775\"},\"glyph\":{\"id\":\"5776\"},\"hover_glyph\":null,\"muted_glyph\":null,\"nonselection_glyph\":{\"id\":\"5777\"},\"view\":{\"id\":\"5779\"}},\"id\":\"5778\",\"type\":\"GlyphRenderer\"},{\"attributes\":{\"active_multi\":null,\"tools\":[{\"id\":\"5761\"},{\"id\":\"5762\"},{\"id\":\"5763\"},{\"id\":\"5764\"},{\"id\":\"5765\"},{\"id\":\"5766\"}]},\"id\":\"5768\",\"type\":\"Toolbar\"},{\"attributes\":{\"source\":{\"id\":\"5793\"}},\"id\":\"5797\",\"type\":\"CDSView\"},{\"attributes\":{},\"id\":\"5788\",\"type\":\"Selection\"},{\"attributes\":{\"source\":{\"id\":\"5775\"}},\"id\":\"5779\",\"type\":\"CDSView\"},{\"attributes\":{},\"id\":\"5765\",\"type\":\"ResetTool\"},{\"attributes\":{},\"id\":\"5766\",\"type\":\"HelpTool\"},{\"attributes\":{\"label\":{\"value\":\"Prune by Layer\"},\"renderers\":[{\"id\":\"5796\"}]},\"id\":\"5811\",\"type\":\"LegendItem\"},{\"attributes\":{\"items\":[{\"id\":\"5792\"},{\"id\":\"5811\"}]},\"id\":\"5791\",\"type\":\"Legend\"},{\"attributes\":{\"axis\":{\"id\":\"5757\"},\"dimension\":1,\"ticker\":null},\"id\":\"5760\",\"type\":\"Grid\"},{\"attributes\":{\"data_source\":{\"id\":\"5793\"},\"glyph\":{\"id\":\"5794\"},\"hover_glyph\":null,\"muted_glyph\":null,\"nonselection_glyph\":{\"id\":\"5795\"},\"view\":{\"id\":\"5797\"}},\"id\":\"5796\",\"type\":\"GlyphRenderer\"},{\"attributes\":{\"line_alpha\":0.1,\"line_color\":\"red\",\"line_width\":2,\"x\":{\"field\":\"x\"},\"y\":{\"field\":\"y\"}},\"id\":\"5795\",\"type\":\"Line\"},{\"attributes\":{},\"id\":\"5780\",\"type\":\"Title\"},{\"attributes\":{},\"id\":\"5758\",\"type\":\"BasicTicker\"},{\"attributes\":{},\"id\":\"5747\",\"type\":\"DataRange1d\"},{\"attributes\":{},\"id\":\"5782\",\"type\":\"AllLabels\"},{\"attributes\":{\"axis_label\":\"Ratio of pruned heads\",\"formatter\":{\"id\":\"5784\"},\"major_label_policy\":{\"id\":\"5782\"},\"ticker\":{\"id\":\"5754\"}},\"id\":\"5753\",\"type\":\"LinearAxis\"},{\"attributes\":{\"line_color\":\"blue\",\"line_width\":2,\"x\":{\"field\":\"x\"},\"y\":{\"field\":\"y\"}},\"id\":\"5776\",\"type\":\"Line\"},{\"attributes\":{},\"id\":\"5751\",\"type\":\"LinearScale\"},{\"attributes\":{\"data\":{\"x\":[0.0,0.1,0.2,0.3,0.4,0.5,0.6,0.7,0.8,0.9],\"y\":[0.05030274802049371,0.21055045871559633,0.35036144578313255,0.5752935171005615,0.7029603612644255,0.8498765432098765,0.8890015205271161,0.890748031496063,0.8949554896142433,0.9015369836695485]},\"selected\":{\"id\":\"5808\"},\"selection_policy\":{\"id\":\"5809\"}},\"id\":\"5793\",\"type\":\"ColumnDataSource\"},{\"attributes\":{},\"id\":\"5762\",\"type\":\"WheelZoomTool\"},{\"attributes\":{},\"id\":\"5754\",\"type\":\"BasicTicker\"},{\"attributes\":{},\"id\":\"5784\",\"type\":\"BasicTickFormatter\"}],\"root_ids\":[\"5744\"]},\"title\":\"Bokeh Application\",\"version\":\"2.3.2\"}};\n",
       "  var render_items = [{\"docid\":\"537cb704-39b5-4bcb-80ce-00131e456046\",\"root_ids\":[\"5744\"],\"roots\":{\"5744\":\"db0d3d03-efe4-47de-8b84-340bb62ad5bb\"}}];\n",
       "  root.Bokeh.embed.embed_items_notebook(docs_json, render_items);\n",
       "\n",
       "  }\n",
       "  if (root.Bokeh !== undefined) {\n",
       "    embed_document(root);\n",
       "  } else {\n",
       "    var attempts = 0;\n",
       "    var timer = setInterval(function(root) {\n",
       "      if (root.Bokeh !== undefined) {\n",
       "        clearInterval(timer);\n",
       "        embed_document(root);\n",
       "      } else {\n",
       "        attempts++;\n",
       "        if (attempts > 100) {\n",
       "          clearInterval(timer);\n",
       "          console.log(\"Bokeh: ERROR: Unable to run BokehJS code because BokehJS library is missing\");\n",
       "        }\n",
       "      }\n",
       "    }, 10, root)\n",
       "  }\n",
       "})(window);"
      ],
      "application/vnd.bokehjs_exec.v0+json": ""
     },
     "metadata": {
      "application/vnd.bokehjs_exec.v0+json": {
       "id": "5744"
      }
     },
     "output_type": "display_data"
    }
   ],
   "source": [
    "perfs1 = [\n",
    "    0.04456405964698722, 0.04481132075471698, 0.046998630553864884, 0.05243837492391966, 0.06383140596469872, 0.08882379793061473, 0.15029671332927572, 0.23767498478393184, 0.6199786975045648, 0.8607919963481436\n",
    "]\n",
    "perfs2 = [\n",
    "    0.05030274802049371, 0.21055045871559633, 0.35036144578313255, 0.5752935171005615, 0.7029603612644255, 0.8498765432098765, 0.8890015205271161, 0.890748031496063, 0.8949554896142433, 0.9015369836695485\n",
    "]\n",
    "plot = figure(\n",
    "    x_axis_label='Ratio of pruned heads',\n",
    "    y_axis_label='WER',\n",
    ")\n",
    "xs = [i/10 for i in range(10)]\n",
    "plot.line(xs, perfs1, color='blue', line_width=2, legend='Prune by Importance')\n",
    "plot.line(xs, perfs2, color='red', line_width=2, legend='Prune by Layer')\n",
    "show(plot)\n"
   ]
  },
  {
   "cell_type": "code",
   "execution_count": 9,
   "id": "e76cf9fc",
   "metadata": {},
   "outputs": [],
   "source": [
    "import torch\n",
    "from head_prune import rank_heads\n",
    "\n",
    "pt = torch.load('head_grad.pt')\n",
    "head_scores = pt['accumulator']['encoder']\n",
    "head_ranks = rank_heads(head_scores, normalize='l2')\n"
   ]
  },
  {
   "cell_type": "code",
   "execution_count": 18,
   "id": "c8d230fe",
   "metadata": {},
   "outputs": [
    {
     "data": {
      "text/html": [
       "\n",
       "\n",
       "\n",
       "\n",
       "\n",
       "\n",
       "  <div class=\"bk-root\" id=\"8cbf8c6b-31b8-4517-a981-53b274b0d1ea\" data-root-id=\"5396\"></div>\n"
      ]
     },
     "metadata": {},
     "output_type": "display_data"
    },
    {
     "data": {
      "application/javascript": [
       "(function(root) {\n",
       "  function embed_document(root) {\n",
       "    \n",
       "  var docs_json = {\"27c32d57-5973-4011-a778-7a037d2aeeb5\":{\"defs\":[],\"roots\":{\"references\":[{\"attributes\":{\"below\":[{\"id\":\"5407\"}],\"center\":[{\"id\":\"5410\"},{\"id\":\"5414\"},{\"id\":\"5436\"}],\"height\":950,\"left\":[{\"id\":\"5411\"}],\"renderers\":[{\"id\":\"5432\"}],\"title\":{\"id\":\"5397\"},\"toolbar\":{\"id\":\"5422\"},\"toolbar_location\":\"below\",\"width\":550,\"x_range\":{\"id\":\"5399\"},\"x_scale\":{\"id\":\"5403\"},\"y_range\":{\"id\":\"5401\"},\"y_scale\":{\"id\":\"5405\"}},\"id\":\"5396\",\"subtype\":\"Figure\",\"type\":\"Plot\"},{\"attributes\":{\"bottom_units\":\"screen\",\"fill_alpha\":0.5,\"fill_color\":\"lightgrey\",\"left_units\":\"screen\",\"level\":\"overlay\",\"line_alpha\":1.0,\"line_color\":\"black\",\"line_dash\":[4,4],\"line_width\":2,\"right_units\":\"screen\",\"syncable\":false,\"top_units\":\"screen\"},\"id\":\"5421\",\"type\":\"BoxAnnotation\"},{\"attributes\":{\"data\":{\"v\":{\"__ndarray__\":\"WVl7PtUwiD6Y140+PbCbPmF3nD7uhK0+JIvYPislDz+h8Ig+RDubPtKgrT477K0+cJiwPp7msD6zirE+HcD+Phe2nj4U5KE+uE+qPglMrT4yu74+5e6+PgHIwT7yR8s+sz9wPsbIgz60Fow+C+6NPrqvjz7iZZo+9q+0PpRoKD9E9lQ++o5vPu/Jgz5/pJI+LFaUPtuLmT4N0Nk+ga4hP6BDUT6aeFI+35ZaPhfncD6Irng+GhV9Pg1NlT6V8Ec/nzOePqX+rj7MvLE+0Jm0Ptw3tj5GP7Y+QJjCPmDwwj5Eric+JGRBPsDLTD7Q1F8+wkdmPnLUjz7GU68+U8pGP0O+MT6rtkI+PWBEPpXSWz7iy4U+1JOxPs+lDD/qsBk/HZ8tPuW5Nj7N/Vc+gZiGPlwFwD5F3tg+om7ePgYjED/3OC0+rYdbPhdZaz4Yk4M+b2HIPhx51D4N3t8+HNwJP2/h6T0T1Xc+wj+DPu/FlT6qyqI+Yuu2PpL96T72KRU/YVJmPmTqhT6EvaM+ebmrPmpkrz5bfb0+khXIPgpVAj93r2c+bTNoPuAmbz61uYI+cY+xPvbrzz5YW/I+/6AEP7mPhD48AJs+gCCcPmguoj4ps7A+xrK5Po8lzD5v+Pk+4QySPgIMkz7fU5Y+IDmXPs46sD5Mtb0+45blPnZO6D6UEpc+PDmkPpawqz58sq0+bjy1Prk5tz7PZMA+BPjdPixXlz6rMKE+BQ6kPoV7uD4Ztrs+XT3BPmHpxD7xYco+\",\"dtype\":\"float32\",\"order\":\"little\",\"shape\":[144]},\"x\":{\"__ndarray__\":\"AAAAAAAA4D8AAAAAAAD4PwAAAAAAAARAAAAAAAAADEAAAAAAAAASQAAAAAAAABZAAAAAAAAAGkAAAAAAAAAeQAAAAAAAAOA/AAAAAAAA+D8AAAAAAAAEQAAAAAAAAAxAAAAAAAAAEkAAAAAAAAAWQAAAAAAAABpAAAAAAAAAHkAAAAAAAADgPwAAAAAAAPg/AAAAAAAABEAAAAAAAAAMQAAAAAAAABJAAAAAAAAAFkAAAAAAAAAaQAAAAAAAAB5AAAAAAAAA4D8AAAAAAAD4PwAAAAAAAARAAAAAAAAADEAAAAAAAAASQAAAAAAAABZAAAAAAAAAGkAAAAAAAAAeQAAAAAAAAOA/AAAAAAAA+D8AAAAAAAAEQAAAAAAAAAxAAAAAAAAAEkAAAAAAAAAWQAAAAAAAABpAAAAAAAAAHkAAAAAAAADgPwAAAAAAAPg/AAAAAAAABEAAAAAAAAAMQAAAAAAAABJAAAAAAAAAFkAAAAAAAAAaQAAAAAAAAB5AAAAAAAAA4D8AAAAAAAD4PwAAAAAAAARAAAAAAAAADEAAAAAAAAASQAAAAAAAABZAAAAAAAAAGkAAAAAAAAAeQAAAAAAAAOA/AAAAAAAA+D8AAAAAAAAEQAAAAAAAAAxAAAAAAAAAEkAAAAAAAAAWQAAAAAAAABpAAAAAAAAAHkAAAAAAAADgPwAAAAAAAPg/AAAAAAAABEAAAAAAAAAMQAAAAAAAABJAAAAAAAAAFkAAAAAAAAAaQAAAAAAAAB5AAAAAAAAA4D8AAAAAAAD4PwAAAAAAAARAAAAAAAAADEAAAAAAAAASQAAAAAAAABZAAAAAAAAAGkAAAAAAAAAeQAAAAAAAAOA/AAAAAAAA+D8AAAAAAAAEQAAAAAAAAAxAAAAAAAAAEkAAAAAAAAAWQAAAAAAAABpAAAAAAAAAHkAAAAAAAADgPwAAAAAAAPg/AAAAAAAABEAAAAAAAAAMQAAAAAAAABJAAAAAAAAAFkAAAAAAAAAaQAAAAAAAAB5AAAAAAAAA4D8AAAAAAAD4PwAAAAAAAARAAAAAAAAADEAAAAAAAAASQAAAAAAAABZAAAAAAAAAGkAAAAAAAAAeQAAAAAAAAOA/AAAAAAAA+D8AAAAAAAAEQAAAAAAAAAxAAAAAAAAAEkAAAAAAAAAWQAAAAAAAABpAAAAAAAAAHkAAAAAAAADgPwAAAAAAAPg/AAAAAAAABEAAAAAAAAAMQAAAAAAAABJAAAAAAAAAFkAAAAAAAAAaQAAAAAAAAB5AAAAAAAAA4D8AAAAAAAD4PwAAAAAAAARAAAAAAAAADEAAAAAAAAASQAAAAAAAABZAAAAAAAAAGkAAAAAAAAAeQAAAAAAAAOA/AAAAAAAA+D8AAAAAAAAEQAAAAAAAAAxAAAAAAAAAEkAAAAAAAAAWQAAAAAAAABpAAAAAAAAAHkAAAAAAAADgPwAAAAAAAPg/AAAAAAAABEAAAAAAAAAMQAAAAAAAABJAAAAAAAAAFkAAAAAAAAAaQAAAAAAAAB5A\",\"dtype\":\"float64\",\"order\":\"little\",\"shape\":[144]},\"y\":{\"__ndarray__\":\"AAAAAAAA4D8AAAAAAADgPwAAAAAAAOA/AAAAAAAA4D8AAAAAAADgPwAAAAAAAOA/AAAAAAAA4D8AAAAAAADgPwAAAAAAAPg/AAAAAAAA+D8AAAAAAAD4PwAAAAAAAPg/AAAAAAAA+D8AAAAAAAD4PwAAAAAAAPg/AAAAAAAA+D8AAAAAAAAEQAAAAAAAAARAAAAAAAAABEAAAAAAAAAEQAAAAAAAAARAAAAAAAAABEAAAAAAAAAEQAAAAAAAAARAAAAAAAAADEAAAAAAAAAMQAAAAAAAAAxAAAAAAAAADEAAAAAAAAAMQAAAAAAAAAxAAAAAAAAADEAAAAAAAAAMQAAAAAAAABJAAAAAAAAAEkAAAAAAAAASQAAAAAAAABJAAAAAAAAAEkAAAAAAAAASQAAAAAAAABJAAAAAAAAAEkAAAAAAAAAWQAAAAAAAABZAAAAAAAAAFkAAAAAAAAAWQAAAAAAAABZAAAAAAAAAFkAAAAAAAAAWQAAAAAAAABZAAAAAAAAAGkAAAAAAAAAaQAAAAAAAABpAAAAAAAAAGkAAAAAAAAAaQAAAAAAAABpAAAAAAAAAGkAAAAAAAAAaQAAAAAAAAB5AAAAAAAAAHkAAAAAAAAAeQAAAAAAAAB5AAAAAAAAAHkAAAAAAAAAeQAAAAAAAAB5AAAAAAAAAHkAAAAAAAAAhQAAAAAAAACFAAAAAAAAAIUAAAAAAAAAhQAAAAAAAACFAAAAAAAAAIUAAAAAAAAAhQAAAAAAAACFAAAAAAAAAI0AAAAAAAAAjQAAAAAAAACNAAAAAAAAAI0AAAAAAAAAjQAAAAAAAACNAAAAAAAAAI0AAAAAAAAAjQAAAAAAAACVAAAAAAAAAJUAAAAAAAAAlQAAAAAAAACVAAAAAAAAAJUAAAAAAAAAlQAAAAAAAACVAAAAAAAAAJUAAAAAAAAAnQAAAAAAAACdAAAAAAAAAJ0AAAAAAAAAnQAAAAAAAACdAAAAAAAAAJ0AAAAAAAAAnQAAAAAAAACdAAAAAAAAAKUAAAAAAAAApQAAAAAAAAClAAAAAAAAAKUAAAAAAAAApQAAAAAAAAClAAAAAAAAAKUAAAAAAAAApQAAAAAAAACtAAAAAAAAAK0AAAAAAAAArQAAAAAAAACtAAAAAAAAAK0AAAAAAAAArQAAAAAAAACtAAAAAAAAAK0AAAAAAAAAtQAAAAAAAAC1AAAAAAAAALUAAAAAAAAAtQAAAAAAAAC1AAAAAAAAALUAAAAAAAAAtQAAAAAAAAC1AAAAAAAAAL0AAAAAAAAAvQAAAAAAAAC9AAAAAAAAAL0AAAAAAAAAvQAAAAAAAAC9AAAAAAAAAL0AAAAAAAAAvQAAAAAAAgDBAAAAAAACAMEAAAAAAAIAwQAAAAAAAgDBAAAAAAACAMEAAAAAAAIAwQAAAAAAAgDBAAAAAAACAMEAAAAAAAIAxQAAAAAAAgDFAAAAAAACAMUAAAAAAAIAxQAAAAAAAgDFAAAAAAACAMUAAAAAAAIAxQAAAAAAAgDFA\",\"dtype\":\"float64\",\"order\":\"little\",\"shape\":[144]}},\"selected\":{\"id\":\"5679\"},\"selection_policy\":{\"id\":\"5680\"}},\"id\":\"5430\",\"type\":\"ColumnDataSource\"},{\"attributes\":{\"source\":{\"id\":\"5430\"}},\"id\":\"5433\",\"type\":\"CDSView\"},{\"attributes\":{\"axis\":{\"id\":\"5407\"},\"ticker\":null},\"id\":\"5410\",\"type\":\"Grid\"},{\"attributes\":{},\"id\":\"5405\",\"type\":\"LinearScale\"},{\"attributes\":{},\"id\":\"5408\",\"type\":\"BasicTicker\"},{\"attributes\":{},\"id\":\"5403\",\"type\":\"LinearScale\"},{\"attributes\":{\"source\":{\"id\":\"5435\"},\"text\":{\"field\":\"text\"},\"text_align\":{\"value\":\"center\"},\"text_baseline\":{\"value\":\"middle\"},\"text_color\":{\"field\":\"color\"},\"text_font_size\":{\"value\":\"8pt\"},\"x\":{\"field\":\"x\"},\"y\":{\"field\":\"y\"}},\"id\":\"5436\",\"type\":\"LabelSet\"},{\"attributes\":{},\"id\":\"5676\",\"type\":\"AllLabels\"},{\"attributes\":{},\"id\":\"5412\",\"type\":\"BasicTicker\"},{\"attributes\":{\"fill_color\":{\"field\":\"v\",\"transform\":{\"id\":\"5429\"}},\"height\":{\"value\":0.99},\"line_color\":{\"value\":\"white\"},\"line_width\":{\"value\":0},\"width\":{\"value\":0.99},\"x\":{\"field\":\"x\"},\"y\":{\"field\":\"y\"}},\"id\":\"5431\",\"type\":\"Rect\"},{\"attributes\":{},\"id\":\"5418\",\"type\":\"SaveTool\"},{\"attributes\":{},\"id\":\"5681\",\"type\":\"Selection\"},{\"attributes\":{},\"id\":\"5419\",\"type\":\"ResetTool\"},{\"attributes\":{},\"id\":\"5397\",\"type\":\"Title\"},{\"attributes\":{},\"id\":\"5678\",\"type\":\"BasicTickFormatter\"},{\"attributes\":{\"overlay\":{\"id\":\"5421\"}},\"id\":\"5417\",\"type\":\"BoxZoomTool\"},{\"attributes\":{\"high\":0.7810147404670715,\"low\":0.11419951170682907,\"palette\":[\"#440154\",\"#482374\",\"#404387\",\"#345E8D\",\"#29788E\",\"#208F8C\",\"#22A784\",\"#42BE71\",\"#79D151\",\"#BADE27\",\"#FDE724\"]},\"id\":\"5429\",\"type\":\"LinearColorMapper\"},{\"attributes\":{\"end\":8},\"id\":\"5399\",\"type\":\"Range1d\"},{\"attributes\":{\"end\":18},\"id\":\"5401\",\"type\":\"Range1d\"},{\"attributes\":{\"axis_label\":\"Head\",\"formatter\":{\"id\":\"5675\"},\"major_label_orientation\":0.785,\"major_label_policy\":{\"id\":\"5673\"},\"major_label_text_font_size\":\"10pt\",\"ticker\":{\"id\":\"5408\"}},\"id\":\"5407\",\"type\":\"LinearAxis\"},{\"attributes\":{\"axis\":{\"id\":\"5411\"},\"dimension\":1,\"ticker\":null},\"id\":\"5414\",\"type\":\"Grid\"},{\"attributes\":{\"data_source\":{\"id\":\"5430\"},\"glyph\":{\"id\":\"5431\"},\"hover_glyph\":null,\"muted_glyph\":null,\"view\":{\"id\":\"5433\"}},\"id\":\"5432\",\"type\":\"GlyphRenderer\"},{\"attributes\":{},\"id\":\"5420\",\"type\":\"HelpTool\"},{\"attributes\":{},\"id\":\"5416\",\"type\":\"WheelZoomTool\"},{\"attributes\":{},\"id\":\"5679\",\"type\":\"Selection\"},{\"attributes\":{},\"id\":\"5675\",\"type\":\"BasicTickFormatter\"},{\"attributes\":{},\"id\":\"5682\",\"type\":\"UnionRenderers\"},{\"attributes\":{},\"id\":\"5415\",\"type\":\"PanTool\"},{\"attributes\":{\"axis_label\":\"Layer\",\"formatter\":{\"id\":\"5678\"},\"major_label_policy\":{\"id\":\"5676\"},\"major_label_text_font_size\":\"10pt\",\"ticker\":{\"id\":\"5412\"}},\"id\":\"5411\",\"type\":\"LinearAxis\"},{\"attributes\":{},\"id\":\"5680\",\"type\":\"UnionRenderers\"},{\"attributes\":{\"data\":{\"color\":[\"white\",\"white\",\"white\",\"white\",\"white\",\"white\",\"white\",\"black\",\"white\",\"white\",\"white\",\"white\",\"white\",\"white\",\"white\",\"black\",\"white\",\"white\",\"white\",\"white\",\"white\",\"white\",\"white\",\"white\",\"white\",\"white\",\"white\",\"white\",\"white\",\"white\",\"white\",\"black\",\"white\",\"white\",\"white\",\"white\",\"white\",\"white\",\"white\",\"black\",\"white\",\"white\",\"white\",\"white\",\"white\",\"white\",\"white\",\"black\",\"white\",\"white\",\"white\",\"white\",\"white\",\"white\",\"white\",\"white\",\"white\",\"white\",\"white\",\"white\",\"white\",\"white\",\"white\",\"black\",\"white\",\"white\",\"white\",\"white\",\"white\",\"white\",\"black\",\"black\",\"white\",\"white\",\"white\",\"white\",\"white\",\"white\",\"white\",\"black\",\"white\",\"white\",\"white\",\"white\",\"white\",\"white\",\"white\",\"black\",\"white\",\"white\",\"white\",\"white\",\"white\",\"white\",\"black\",\"black\",\"white\",\"white\",\"white\",\"white\",\"white\",\"white\",\"white\",\"black\",\"white\",\"white\",\"white\",\"white\",\"white\",\"white\",\"black\",\"black\",\"white\",\"white\",\"white\",\"white\",\"white\",\"white\",\"white\",\"black\",\"white\",\"white\",\"white\",\"white\",\"white\",\"white\",\"black\",\"black\",\"white\",\"white\",\"white\",\"white\",\"white\",\"white\",\"white\",\"white\",\"white\",\"white\",\"white\",\"white\",\"white\",\"white\",\"white\",\"white\"],\"text\":[\"0.25\",\"0.27\",\"0.28\",\"0.30\",\"0.31\",\"0.34\",\"0.42\",\"0.56\",\"0.27\",\"0.30\",\"0.34\",\"0.34\",\"0.34\",\"0.35\",\"0.35\",\"0.50\",\"0.31\",\"0.32\",\"0.33\",\"0.34\",\"0.37\",\"0.37\",\"0.38\",\"0.40\",\"0.23\",\"0.26\",\"0.27\",\"0.28\",\"0.28\",\"0.30\",\"0.35\",\"0.66\",\"0.21\",\"0.23\",\"0.26\",\"0.29\",\"0.29\",\"0.30\",\"0.43\",\"0.63\",\"0.20\",\"0.21\",\"0.21\",\"0.24\",\"0.24\",\"0.25\",\"0.29\",\"0.78\",\"0.31\",\"0.34\",\"0.35\",\"0.35\",\"0.36\",\"0.36\",\"0.38\",\"0.38\",\"0.16\",\"0.19\",\"0.20\",\"0.22\",\"0.22\",\"0.28\",\"0.34\",\"0.78\",\"0.17\",\"0.19\",\"0.19\",\"0.21\",\"0.26\",\"0.35\",\"0.55\",\"0.60\",\"0.17\",\"0.18\",\"0.21\",\"0.26\",\"0.38\",\"0.42\",\"0.43\",\"0.56\",\"0.17\",\"0.21\",\"0.23\",\"0.26\",\"0.39\",\"0.41\",\"0.44\",\"0.54\",\"0.11\",\"0.24\",\"0.26\",\"0.29\",\"0.32\",\"0.36\",\"0.46\",\"0.58\",\"0.22\",\"0.26\",\"0.32\",\"0.34\",\"0.34\",\"0.37\",\"0.39\",\"0.51\",\"0.23\",\"0.23\",\"0.23\",\"0.26\",\"0.35\",\"0.41\",\"0.47\",\"0.52\",\"0.26\",\"0.30\",\"0.30\",\"0.32\",\"0.35\",\"0.36\",\"0.40\",\"0.49\",\"0.29\",\"0.29\",\"0.29\",\"0.30\",\"0.34\",\"0.37\",\"0.45\",\"0.45\",\"0.30\",\"0.32\",\"0.34\",\"0.34\",\"0.35\",\"0.36\",\"0.38\",\"0.43\",\"0.30\",\"0.31\",\"0.32\",\"0.36\",\"0.37\",\"0.38\",\"0.38\",\"0.40\"],\"x\":{\"__ndarray__\":\"AAAAAAAA4D8AAAAAAAD4PwAAAAAAAARAAAAAAAAADEAAAAAAAAASQAAAAAAAABZAAAAAAAAAGkAAAAAAAAAeQAAAAAAAAOA/AAAAAAAA+D8AAAAAAAAEQAAAAAAAAAxAAAAAAAAAEkAAAAAAAAAWQAAAAAAAABpAAAAAAAAAHkAAAAAAAADgPwAAAAAAAPg/AAAAAAAABEAAAAAAAAAMQAAAAAAAABJAAAAAAAAAFkAAAAAAAAAaQAAAAAAAAB5AAAAAAAAA4D8AAAAAAAD4PwAAAAAAAARAAAAAAAAADEAAAAAAAAASQAAAAAAAABZAAAAAAAAAGkAAAAAAAAAeQAAAAAAAAOA/AAAAAAAA+D8AAAAAAAAEQAAAAAAAAAxAAAAAAAAAEkAAAAAAAAAWQAAAAAAAABpAAAAAAAAAHkAAAAAAAADgPwAAAAAAAPg/AAAAAAAABEAAAAAAAAAMQAAAAAAAABJAAAAAAAAAFkAAAAAAAAAaQAAAAAAAAB5AAAAAAAAA4D8AAAAAAAD4PwAAAAAAAARAAAAAAAAADEAAAAAAAAASQAAAAAAAABZAAAAAAAAAGkAAAAAAAAAeQAAAAAAAAOA/AAAAAAAA+D8AAAAAAAAEQAAAAAAAAAxAAAAAAAAAEkAAAAAAAAAWQAAAAAAAABpAAAAAAAAAHkAAAAAAAADgPwAAAAAAAPg/AAAAAAAABEAAAAAAAAAMQAAAAAAAABJAAAAAAAAAFkAAAAAAAAAaQAAAAAAAAB5AAAAAAAAA4D8AAAAAAAD4PwAAAAAAAARAAAAAAAAADEAAAAAAAAASQAAAAAAAABZAAAAAAAAAGkAAAAAAAAAeQAAAAAAAAOA/AAAAAAAA+D8AAAAAAAAEQAAAAAAAAAxAAAAAAAAAEkAAAAAAAAAWQAAAAAAAABpAAAAAAAAAHkAAAAAAAADgPwAAAAAAAPg/AAAAAAAABEAAAAAAAAAMQAAAAAAAABJAAAAAAAAAFkAAAAAAAAAaQAAAAAAAAB5AAAAAAAAA4D8AAAAAAAD4PwAAAAAAAARAAAAAAAAADEAAAAAAAAASQAAAAAAAABZAAAAAAAAAGkAAAAAAAAAeQAAAAAAAAOA/AAAAAAAA+D8AAAAAAAAEQAAAAAAAAAxAAAAAAAAAEkAAAAAAAAAWQAAAAAAAABpAAAAAAAAAHkAAAAAAAADgPwAAAAAAAPg/AAAAAAAABEAAAAAAAAAMQAAAAAAAABJAAAAAAAAAFkAAAAAAAAAaQAAAAAAAAB5AAAAAAAAA4D8AAAAAAAD4PwAAAAAAAARAAAAAAAAADEAAAAAAAAASQAAAAAAAABZAAAAAAAAAGkAAAAAAAAAeQAAAAAAAAOA/AAAAAAAA+D8AAAAAAAAEQAAAAAAAAAxAAAAAAAAAEkAAAAAAAAAWQAAAAAAAABpAAAAAAAAAHkAAAAAAAADgPwAAAAAAAPg/AAAAAAAABEAAAAAAAAAMQAAAAAAAABJAAAAAAAAAFkAAAAAAAAAaQAAAAAAAAB5A\",\"dtype\":\"float64\",\"order\":\"little\",\"shape\":[144]},\"y\":{\"__ndarray__\":\"AAAAAAAA4D8AAAAAAADgPwAAAAAAAOA/AAAAAAAA4D8AAAAAAADgPwAAAAAAAOA/AAAAAAAA4D8AAAAAAADgPwAAAAAAAPg/AAAAAAAA+D8AAAAAAAD4PwAAAAAAAPg/AAAAAAAA+D8AAAAAAAD4PwAAAAAAAPg/AAAAAAAA+D8AAAAAAAAEQAAAAAAAAARAAAAAAAAABEAAAAAAAAAEQAAAAAAAAARAAAAAAAAABEAAAAAAAAAEQAAAAAAAAARAAAAAAAAADEAAAAAAAAAMQAAAAAAAAAxAAAAAAAAADEAAAAAAAAAMQAAAAAAAAAxAAAAAAAAADEAAAAAAAAAMQAAAAAAAABJAAAAAAAAAEkAAAAAAAAASQAAAAAAAABJAAAAAAAAAEkAAAAAAAAASQAAAAAAAABJAAAAAAAAAEkAAAAAAAAAWQAAAAAAAABZAAAAAAAAAFkAAAAAAAAAWQAAAAAAAABZAAAAAAAAAFkAAAAAAAAAWQAAAAAAAABZAAAAAAAAAGkAAAAAAAAAaQAAAAAAAABpAAAAAAAAAGkAAAAAAAAAaQAAAAAAAABpAAAAAAAAAGkAAAAAAAAAaQAAAAAAAAB5AAAAAAAAAHkAAAAAAAAAeQAAAAAAAAB5AAAAAAAAAHkAAAAAAAAAeQAAAAAAAAB5AAAAAAAAAHkAAAAAAAAAhQAAAAAAAACFAAAAAAAAAIUAAAAAAAAAhQAAAAAAAACFAAAAAAAAAIUAAAAAAAAAhQAAAAAAAACFAAAAAAAAAI0AAAAAAAAAjQAAAAAAAACNAAAAAAAAAI0AAAAAAAAAjQAAAAAAAACNAAAAAAAAAI0AAAAAAAAAjQAAAAAAAACVAAAAAAAAAJUAAAAAAAAAlQAAAAAAAACVAAAAAAAAAJUAAAAAAAAAlQAAAAAAAACVAAAAAAAAAJUAAAAAAAAAnQAAAAAAAACdAAAAAAAAAJ0AAAAAAAAAnQAAAAAAAACdAAAAAAAAAJ0AAAAAAAAAnQAAAAAAAACdAAAAAAAAAKUAAAAAAAAApQAAAAAAAAClAAAAAAAAAKUAAAAAAAAApQAAAAAAAAClAAAAAAAAAKUAAAAAAAAApQAAAAAAAACtAAAAAAAAAK0AAAAAAAAArQAAAAAAAACtAAAAAAAAAK0AAAAAAAAArQAAAAAAAACtAAAAAAAAAK0AAAAAAAAAtQAAAAAAAAC1AAAAAAAAALUAAAAAAAAAtQAAAAAAAAC1AAAAAAAAALUAAAAAAAAAtQAAAAAAAAC1AAAAAAAAAL0AAAAAAAAAvQAAAAAAAAC9AAAAAAAAAL0AAAAAAAAAvQAAAAAAAAC9AAAAAAAAAL0AAAAAAAAAvQAAAAAAAgDBAAAAAAACAMEAAAAAAAIAwQAAAAAAAgDBAAAAAAACAMEAAAAAAAIAwQAAAAAAAgDBAAAAAAACAMEAAAAAAAIAxQAAAAAAAgDFAAAAAAACAMUAAAAAAAIAxQAAAAAAAgDFAAAAAAACAMUAAAAAAAIAxQAAAAAAAgDFA\",\"dtype\":\"float64\",\"order\":\"little\",\"shape\":[144]}},\"selected\":{\"id\":\"5681\"},\"selection_policy\":{\"id\":\"5682\"}},\"id\":\"5435\",\"type\":\"ColumnDataSource\"},{\"attributes\":{\"active_multi\":null,\"tools\":[{\"id\":\"5415\"},{\"id\":\"5416\"},{\"id\":\"5417\"},{\"id\":\"5418\"},{\"id\":\"5419\"},{\"id\":\"5420\"}]},\"id\":\"5422\",\"type\":\"Toolbar\"},{\"attributes\":{},\"id\":\"5673\",\"type\":\"AllLabels\"}],\"root_ids\":[\"5396\"]},\"title\":\"Bokeh Application\",\"version\":\"2.3.2\"}};\n",
       "  var render_items = [{\"docid\":\"27c32d57-5973-4011-a778-7a037d2aeeb5\",\"root_ids\":[\"5396\"],\"roots\":{\"5396\":\"8cbf8c6b-31b8-4517-a981-53b274b0d1ea\"}}];\n",
       "  root.Bokeh.embed.embed_items_notebook(docs_json, render_items);\n",
       "\n",
       "  }\n",
       "  if (root.Bokeh !== undefined) {\n",
       "    embed_document(root);\n",
       "  } else {\n",
       "    var attempts = 0;\n",
       "    var timer = setInterval(function(root) {\n",
       "      if (root.Bokeh !== undefined) {\n",
       "        clearInterval(timer);\n",
       "        embed_document(root);\n",
       "      } else {\n",
       "        attempts++;\n",
       "        if (attempts > 100) {\n",
       "          clearInterval(timer);\n",
       "          console.log(\"Bokeh: ERROR: Unable to run BokehJS code because BokehJS library is missing\");\n",
       "        }\n",
       "      }\n",
       "    }, 10, root)\n",
       "  }\n",
       "})(window);"
      ],
      "application/vnd.bokehjs_exec.v0+json": ""
     },
     "metadata": {
      "application/vnd.bokehjs_exec.v0+json": {
       "id": "5396"
      }
     },
     "output_type": "display_data"
    }
   ],
   "source": [
    "from bokeh_utils import plot_matrix\n",
    "\n",
    "head_scores_ = head_scores / head_scores.pow(2).sum(-1, keepdim=True).sqrt()\n",
    "head_scores_ = torch.tensor([\n",
    "    sorted(hs) for hs in head_scores_\n",
    "])\n",
    "\n",
    "plot = plot_matrix(head_scores_, cell_size=50, include_color_bar=False, x_axis_label='Head', y_axis_label='Layer')\n",
    "show(plot)"
   ]
  },
  {
   "cell_type": "code",
   "execution_count": null,
   "id": "ac7d8e7f",
   "metadata": {},
   "outputs": [],
   "source": []
  }
 ],
 "metadata": {
  "kernelspec": {
   "display_name": "Python 3",
   "language": "python",
   "name": "python3"
  },
  "language_info": {
   "codemirror_mode": {
    "name": "ipython",
    "version": 3
   },
   "file_extension": ".py",
   "mimetype": "text/x-python",
   "name": "python",
   "nbconvert_exporter": "python",
   "pygments_lexer": "ipython3",
   "version": "3.9.7"
  }
 },
 "nbformat": 4,
 "nbformat_minor": 5
}
